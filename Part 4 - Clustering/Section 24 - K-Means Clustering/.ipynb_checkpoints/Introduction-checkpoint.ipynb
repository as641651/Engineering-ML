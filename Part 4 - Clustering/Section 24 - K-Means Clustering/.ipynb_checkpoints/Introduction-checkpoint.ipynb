{
 "cells": [
  {
   "cell_type": "markdown",
   "metadata": {},
   "source": [
    "## K - Means"
   ]
  },
  {
   "cell_type": "markdown",
   "metadata": {},
   "source": [
    "Useful for **discovering** the categories in your **unlabeled** dataset. \n",
    "\n",
    "The **number of categories** into which we want to cluster should be initially known."
   ]
  },
  {
   "cell_type": "markdown",
   "metadata": {},
   "source": [
    "![kmeans](kmeans.png)"
   ]
  },
  {
   "cell_type": "markdown",
   "metadata": {},
   "source": [
    "### Algorithm\n",
    "\n",
    "1) Randomly choose K centrods \n",
    "\n",
    "2) Assign each data point to that closest centrold based on certain distance metric (Euclidean is used often)\n",
    "\n",
    "3) Recompute centroid \n",
    "\n",
    "4) If norm of the change in centroid is significant, GO TO step 2. Otherwise STOP."
   ]
  },
  {
   "cell_type": "markdown",
   "metadata": {},
   "source": [
    "### Initialization Trap\n",
    "\n",
    "Sometimes wrong initialization might take us away from right clusters. To combat this problem, **K-Means++** algorithm is used. This algorithm iteratively initializes data-points as centers, with the successive centers being farthest away from previously chosen centers."
   ]
  },
  {
   "cell_type": "code",
   "execution_count": null,
   "metadata": {},
   "outputs": [],
   "source": []
  }
 ],
 "metadata": {
  "kernelspec": {
   "display_name": "Python 3",
   "language": "python",
   "name": "python3"
  },
  "language_info": {
   "codemirror_mode": {
    "name": "ipython",
    "version": 3
   },
   "file_extension": ".py",
   "mimetype": "text/x-python",
   "name": "python",
   "nbconvert_exporter": "python",
   "pygments_lexer": "ipython3",
   "version": "3.4.3"
  }
 },
 "nbformat": 4,
 "nbformat_minor": 2
}
