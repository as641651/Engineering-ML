{
 "cells": [
  {
   "cell_type": "markdown",
   "metadata": {},
   "source": [
    "## K - Means"
   ]
  },
  {
   "cell_type": "markdown",
   "metadata": {},
   "source": [
    "Useful for **discovering** the categories in your **unlabeled** dataset (**unsupervised learning**). \n",
    "\n",
    "The **number of categories** into which we want to cluster should be initially known."
   ]
  },
  {
   "cell_type": "markdown",
   "metadata": {},
   "source": [
    "![kmeans](kmeans.png)"
   ]
  },
  {
   "cell_type": "markdown",
   "metadata": {},
   "source": [
    "### Algorithm\n",
    "\n",
    "1) Randomly choose K centrods \n",
    "\n",
    "2) Assign each data point to that closest centrold based on certain distance metric (Euclidean is used often)\n",
    "\n",
    "3) Recompute centroid \n",
    "\n",
    "4) If norm of the change in centroid is significant, GO TO step 2. Otherwise STOP."
   ]
  },
  {
   "cell_type": "markdown",
   "metadata": {},
   "source": [
    "### Choosing the right number of clusters\n",
    "\n",
    "**Within Cluster Sum of Square**(WCSS) metric is compared for different number of clusters.\n",
    "\n",
    "WCSS = $\\sum_{c=1}^{C} \\sum_{i=1}^{N_{c}}({\\bf x}_{i}- {\\bf \\mu_{c}})^{2}$\n",
    "\n",
    "Where,\n",
    "\n",
    "    C    : Number of clusters\n",
    "    N    : Number of points in each cluster\n",
    "    \n",
    "When number of clusters is equal to number of data-points, WCSS is 0. WCSS increases as we add more points. Thus, as we increase the number of cluster, the goodness of fit increases. **The optimal number of clusters is chosen as that number, corresponding to the elbow of the following graph**\n",
    "\n",
    "![](num_cluster)"
   ]
  },
  {
   "cell_type": "markdown",
   "metadata": {},
   "source": [
    "### K-Means++\n",
    "\n",
    "Sometimes wrong initialization might take us away from right clusters. To combat this problem, **K-Means++** algorithm is used. This algorithm iteratively initializes data-points as centers, with the successive centers being farthest away from previously chosen centers."
   ]
  }
 ],
 "metadata": {
  "kernelspec": {
   "display_name": "Python 3",
   "language": "python",
   "name": "python3"
  },
  "language_info": {
   "codemirror_mode": {
    "name": "ipython",
    "version": 3
   },
   "file_extension": ".py",
   "mimetype": "text/x-python",
   "name": "python",
   "nbconvert_exporter": "python",
   "pygments_lexer": "ipython3",
   "version": "3.4.3"
  }
 },
 "nbformat": 4,
 "nbformat_minor": 2
}
