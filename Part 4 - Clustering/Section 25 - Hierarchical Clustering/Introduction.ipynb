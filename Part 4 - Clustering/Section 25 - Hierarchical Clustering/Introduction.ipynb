{
 "cells": [
  {
   "cell_type": "markdown",
   "metadata": {},
   "source": [
    "## Heirarchical Clustering"
   ]
  },
  {
   "cell_type": "markdown",
   "metadata": {},
   "source": [
    "Useful for **discovering** the categories in your **unlabeled** dataset (**unsupervised learning**). \n",
    "\n",
    "Computing the **optimal number of categories** is in-built as the stopping criterion of the algorithm.\n",
    "\n",
    "There are two kinds of Heirarchical Clustering,\n",
    "\n",
    "    1) Agglomerative (Top -Down)\n",
    "    2) Divisive (Bottom - Up)\n",
    "    \n",
    "This method is **not appropriate** for **large datasets**"
   ]
  },
  {
   "cell_type": "markdown",
   "metadata": {},
   "source": [
    "### Algorithm for Agglomerative HC\n",
    "\n",
    "    1) Make each data point a single point cluster (N Clusters)\n",
    "    2) Take two closest clusters and make them one cluster (N-1 Clusters)\n",
    "    3) Repeat STEP 2 until 1 cluster \n",
    "\n",
    "\n"
   ]
  },
  {
   "cell_type": "markdown",
   "metadata": {},
   "source": [
    "### Defining the distance between two clusters\n",
    "\n",
    "This metric determines the output of the algorithm.\n",
    "\n",
    "    1) Distance of \"closests points\" between two clusters.   \n",
    "    2) Distance of \"farthest points\" between two clusters.\n",
    "    3) Distance of \"centroid\" between two clusters.\n",
    "    4) \"Average distance\" of all points between two clusters.       "
   ]
  },
  {
   "cell_type": "markdown",
   "metadata": {},
   "source": [
    "### Stopping Criterion\n",
    "\n",
    "Set some threshold on the distance for merging. For the right threshold find the largest change in distances from a **dendogram**. "
   ]
  },
  {
   "cell_type": "markdown",
   "metadata": {},
   "source": [
    "![](dendogram)"
   ]
  },
  {
   "cell_type": "code",
   "execution_count": null,
   "metadata": {},
   "outputs": [],
   "source": []
  }
 ],
 "metadata": {
  "kernelspec": {
   "display_name": "Python 3",
   "language": "python",
   "name": "python3"
  },
  "language_info": {
   "codemirror_mode": {
    "name": "ipython",
    "version": 3
   },
   "file_extension": ".py",
   "mimetype": "text/x-python",
   "name": "python",
   "nbconvert_exporter": "python",
   "pygments_lexer": "ipython3",
   "version": "3.4.3"
  }
 },
 "nbformat": 4,
 "nbformat_minor": 2
}
