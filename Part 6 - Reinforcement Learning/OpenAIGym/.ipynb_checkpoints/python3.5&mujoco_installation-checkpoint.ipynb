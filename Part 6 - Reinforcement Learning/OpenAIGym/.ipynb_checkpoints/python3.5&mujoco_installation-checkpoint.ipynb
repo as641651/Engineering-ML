{
 "cells": [
  {
   "cell_type": "markdown",
   "metadata": {},
   "source": [
    "## Install python 3.5.2"
   ]
  },
  {
   "cell_type": "markdown",
   "metadata": {},
   "source": [
    "### Remove existing python 3.5.2 if installed with apt\n",
    "> sudo apt-get autoremove python3.5.2\n",
    "\n",
    "### Get the source\n",
    "\n",
    "> wget https://www.python.org/ftp/python/3.5.2/Python-3.5.2.tar.xz\n",
    "\n",
    "> tar xvf Python-3.5.2.tar.xz\n",
    "\n",
    "> cd Python-3.5.2\n",
    "\n",
    "### Configure and install\n",
    "> sudo ./configure\n",
    "\n",
    "> sudo make altinstall\n",
    "\n",
    "### Success!\n",
    "> pip3.5 -V\n",
    "\n",
    "> pip 9.0.1 from /usr/local/lib/python3.6/site-packages (python 3.6)"
   ]
  },
  {
   "cell_type": "markdown",
   "metadata": {},
   "source": [
    "## Setup gym and mujoco"
   ]
  },
  {
   "cell_type": "markdown",
   "metadata": {},
   "source": [
    "### gym\n",
    "\n",
    "> **sudo pip3.5 install gym==0.9.3**\n",
    "\n",
    "### mujoco\n",
    "\n",
    "    1. Download the MuJoCo version 1.31 binaries for Linux, OSX, or Windows\n",
    "\n",
    "    3. Download mjpro131 for linux and gets its key and add to .bashrc\n",
    "    \n",
    "        export MUJOCO_PY_MJKEY_PATH=/home/sankaran/.softwares/mjpro131/mjkey.txt\n",
    "        export MUJOCO_PY_MJPRO_PATH=/home/sankaran/.softwares/mjpro131\n",
    "\n",
    "\n",
    "> sudo apt-get install libosmesa6-dev\n",
    "\n",
    "> sudo apt-get install libglfw3-dev\n",
    "\n",
    "> **sudo pip3.5 install mujoco-py==0.5.7**\n",
    "\n",
    "> python3.5\n",
    "\n",
    ">> import mujoco_py"
   ]
  },
  {
   "cell_type": "markdown",
   "metadata": {},
   "source": [
    "### Note : \n",
    "\n",
    "Also works with python 3.4"
   ]
  },
  {
   "cell_type": "code",
   "execution_count": null,
   "metadata": {},
   "outputs": [],
   "source": []
  }
 ],
 "metadata": {
  "kernelspec": {
   "display_name": "Python 3",
   "language": "python",
   "name": "python3"
  },
  "language_info": {
   "codemirror_mode": {
    "name": "ipython",
    "version": 3
   },
   "file_extension": ".py",
   "mimetype": "text/x-python",
   "name": "python",
   "nbconvert_exporter": "python",
   "pygments_lexer": "ipython3",
   "version": "3.4.3"
  }
 },
 "nbformat": 4,
 "nbformat_minor": 2
}
