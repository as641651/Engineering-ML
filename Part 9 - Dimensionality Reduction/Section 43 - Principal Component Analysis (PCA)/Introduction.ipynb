{
 "cells": [
  {
   "cell_type": "markdown",
   "metadata": {},
   "source": [
    "## Principle component analysis"
   ]
  },
  {
   "cell_type": "markdown",
   "metadata": {},
   "source": [
    "From **m** independent variables of your dataset, extract **p < m** independent variable that explain the **most variance** of the dependent variable.\n",
    "\n",
    "**The input is transformed to a space of basis vectors that quantify the variance matrix**"
   ]
  },
  {
   "cell_type": "markdown",
   "metadata": {},
   "source": [
    "### Decomposition of co-variance matrix (SPD)\n",
    "\n",
    "$ {\\bf \\Sigma} \\propto {\\bf X^{T}X} \\qquad {\\bf X} \\in \\mathbb{R}^ {\\_ \\times n} \\quad {\\bf \\Sigma} \\in \\mathbb{R}^{n \\times n}  $\n",
    "\n",
    "Where **n** is the number of independent variables and ${\\bf \\Sigma}$ is the co-variance matrix\n",
    "\n",
    "$ {\\bf \\Sigma} = {\\bf V^{T} \\Lambda V} \\qquad {\\bf V} \\in \\mathbb{O}^{n \\times n}, \\quad {\\bf \\Lambda} \\in \\mathbb{D}^{n \\times n} $"
   ]
  },
  {
   "cell_type": "markdown",
   "metadata": {},
   "source": [
    "### Dimensionality reduction\n",
    "\n",
    "To reduce to **p < n** independent variables, choose the columns of **V** (*eigen vectors*) corresponding to top **p** *eigen values* and,\n",
    "\n",
    "${\\bf \\hat X} = {\\bf X \\hat V} \\qquad {\\bf X} \\in \\mathbb{R}^{ \\_ \\times n} \\quad {\\bf \\hat V} \\in \\mathbb{O}^{n \\times p}, \\quad {\\bf \\hat X} \\in \\mathbb{R}^{ \\_ \\times p}$"
   ]
  },
  {
   "cell_type": "code",
   "execution_count": null,
   "metadata": {},
   "outputs": [],
   "source": []
  }
 ],
 "metadata": {
  "kernelspec": {
   "display_name": "Python 3",
   "language": "python",
   "name": "python3"
  },
  "language_info": {
   "codemirror_mode": {
    "name": "ipython",
    "version": 3
   },
   "file_extension": ".py",
   "mimetype": "text/x-python",
   "name": "python",
   "nbconvert_exporter": "python",
   "pygments_lexer": "ipython3",
   "version": "3.4.3"
  }
 },
 "nbformat": 4,
 "nbformat_minor": 2
}
