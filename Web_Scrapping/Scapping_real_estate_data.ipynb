{
 "cells": [
  {
   "cell_type": "markdown",
   "metadata": {},
   "source": [
    "## Scrapping Real-estate property data"
   ]
  },
  {
   "cell_type": "code",
   "execution_count": 1,
   "metadata": {},
   "outputs": [],
   "source": [
    "import requests\n",
    "from bs4 import BeautifulSoup"
   ]
  },
  {
   "cell_type": "code",
   "execution_count": 4,
   "metadata": {},
   "outputs": [],
   "source": [
    "r = requests.get('https://www.century21.com/real-estate/rock-springs-wy/LCWYROCKSPRINGS/?k=1')"
   ]
  },
  {
   "cell_type": "code",
   "execution_count": 7,
   "metadata": {},
   "outputs": [],
   "source": [
    "c = r.content\n",
    "soup = BeautifulSoup(c,'html.parser')"
   ]
  },
  {
   "cell_type": "markdown",
   "metadata": {},
   "source": [
    "### Analyse the html code and find out which element has the desired data"
   ]
  },
  {
   "cell_type": "code",
   "execution_count": 27,
   "metadata": {},
   "outputs": [],
   "source": [
    "inf_cont = soup.find_all(\"div\",{\"class\":\"property-card-primary-info\"})"
   ]
  },
  {
   "cell_type": "code",
   "execution_count": 12,
   "metadata": {},
   "outputs": [
    {
     "data": {
      "text/plain": [
       "12"
      ]
     },
     "execution_count": 12,
     "metadata": {},
     "output_type": "execute_result"
    }
   ],
   "source": [
    "len(inf_cont)"
   ]
  },
  {
   "cell_type": "code",
   "execution_count": 13,
   "metadata": {},
   "outputs": [
    {
     "data": {
      "text/plain": [
       "<div class=\"property-card-primary-info\">\n",
       "<div class=\"pdp-listing-type sale\">FOR SALE</div>\n",
       "<a class=\"listing-price\" href=\"/property/806-moccasin-lane-rock-springs-wy-82901-CBR50172228\">\n",
       "         \n",
       "            \n",
       "               $58,900\n",
       "            \n",
       "            \n",
       "         \n",
       "      </a>\n",
       "<div class=\"col-wrap-mid\">\n",
       "<div class=\"property-beds\">\n",
       "<strong>3</strong> beds\n",
       "         </div>\n",
       "<div class=\"property-baths\">\n",
       "<strong>1</strong> bath\n",
       "         </div>\n",
       "</div>\n",
       "<div class=\"col-wrap-last\">\n",
       "<div class=\"property-half-baths\">\n",
       "<strong>1</strong> half bath\n",
       "         </div>\n",
       "<div class=\"property-sqft\">\n",
       "<strong>1,204</strong> sq. ft\n",
       "         </div>\n",
       "</div>\n",
       "<div class=\"property-address-info\">\n",
       "<div class=\"property-address\" title=\"806 Moccasin Lane\">\n",
       "               806 Moccasin Lane\n",
       "            </div>\n",
       "<div class=\"property-city\">\n",
       "            Rock Springs WY 82901\n",
       "         </div>\n",
       "</div>\n",
       "<div class=\"property-card-attribution\">\n",
       "               Courtesy Of Coldwell Banker Sweetwater Realty\n",
       "            \n",
       "         </div>\n",
       "</div>"
      ]
     },
     "execution_count": 13,
     "metadata": {},
     "output_type": "execute_result"
    }
   ],
   "source": [
    "inf_cont[0]"
   ]
  },
  {
   "cell_type": "code",
   "execution_count": 14,
   "metadata": {},
   "outputs": [
    {
     "data": {
      "text/plain": [
       "<div class=\"property-card-primary-info\">\n",
       "<div class=\"pdp-listing-type sale\">FOR SALE</div>\n",
       "<a class=\"listing-price\" href=\"/property/1620-w-2nd-st-19-rock-springs-wy-82901-CBR50146466\">\n",
       "         \n",
       "            \n",
       "               $37,000\n",
       "            \n",
       "            \n",
       "         \n",
       "      </a>\n",
       "<div class=\"col-wrap-mid\">\n",
       "<div class=\"property-beds\">\n",
       "<strong>3</strong> beds\n",
       "         </div>\n",
       "<div class=\"property-baths\">\n",
       "<strong>2</strong> baths\n",
       "         </div>\n",
       "</div>\n",
       "<div class=\"col-wrap-last\">\n",
       "<div class=\"property-sqft\">\n",
       "<strong>1,296</strong> sq. ft\n",
       "         </div>\n",
       "</div>\n",
       "<div class=\"property-address-info\">\n",
       "<div class=\"property-address\" title=\"1620 W 2nd St #19\">\n",
       "               1620 W 2nd St #19\n",
       "            </div>\n",
       "<div class=\"property-city\">\n",
       "            Rock Springs WY 82901\n",
       "         </div>\n",
       "</div>\n",
       "<div class=\"property-card-attribution\">\n",
       "               Courtesy Of Coldwell Banker Sweetwater Realty\n",
       "            \n",
       "         </div>\n",
       "</div>"
      ]
     },
     "execution_count": 14,
     "metadata": {},
     "output_type": "execute_result"
    }
   ],
   "source": [
    "inf_cont[1]"
   ]
  },
  {
   "cell_type": "markdown",
   "metadata": {},
   "source": [
    "### Get the Property price and property square feet"
   ]
  },
  {
   "cell_type": "markdown",
   "metadata": {},
   "source": [
    "#### Price"
   ]
  },
  {
   "cell_type": "code",
   "execution_count": 21,
   "metadata": {},
   "outputs": [
    {
     "data": {
      "text/plain": [
       "'$37,000'"
      ]
     },
     "execution_count": 21,
     "metadata": {},
     "output_type": "execute_result"
    }
   ],
   "source": [
    "inf_cont[1].find(\"a\").text.strip()"
   ]
  },
  {
   "cell_type": "markdown",
   "metadata": {},
   "source": [
    "#### Sq. feet"
   ]
  },
  {
   "cell_type": "code",
   "execution_count": 23,
   "metadata": {},
   "outputs": [
    {
     "data": {
      "text/plain": [
       "<div class=\"property-sqft\">\n",
       "<strong>1,296</strong> sq. ft\n",
       "         </div>"
      ]
     },
     "execution_count": 23,
     "metadata": {},
     "output_type": "execute_result"
    }
   ],
   "source": [
    "inf_cont[1].find(\"div\",{\"class\" : \"property-sqft\"})"
   ]
  },
  {
   "cell_type": "code",
   "execution_count": 25,
   "metadata": {
    "scrolled": true
   },
   "outputs": [
    {
     "data": {
      "text/plain": [
       "'1,296'"
      ]
     },
     "execution_count": 25,
     "metadata": {},
     "output_type": "execute_result"
    }
   ],
   "source": [
    "inf_cont[1].find(\"div\",{\"class\" : \"property-sqft\"}).find(\"strong\").text"
   ]
  },
  {
   "cell_type": "markdown",
   "metadata": {},
   "source": [
    "#### Make sure to deal with missing data"
   ]
  },
  {
   "cell_type": "code",
   "execution_count": 33,
   "metadata": {
    "scrolled": false
   },
   "outputs": [
    {
     "name": "stdout",
     "output_type": "stream",
     "text": [
      "58,900 1,204\n",
      "37,000 1,296\n",
      "430,000 4,560\n",
      "120,800 1,344\n",
      "150,000 NA\n",
      "230,000 NA\n",
      "200,000 NA\n",
      "219,000 NA\n",
      "220,000 NA\n",
      "179,900 960\n",
      "15,000 NA\n",
      "99,900 1,324\n"
     ]
    }
   ],
   "source": [
    "for item in inf_cont:\n",
    "    try:\n",
    "        price = item.find(\"a\").text.strip()\n",
    "        price = price.replace(\"$\",\"\")\n",
    "    except AttributeError:\n",
    "        price = 0\n",
    "    try:    \n",
    "        area = item.find(\"div\",{\"class\" : \"property-sqft\"}).find(\"strong\").text\n",
    "    except AttributeError:\n",
    "        area = \"NA\"\n",
    "    print(price,area)\n",
    "    "
   ]
  },
  {
   "cell_type": "markdown",
   "metadata": {},
   "source": [
    "#### Getting other info : bed, baths, city"
   ]
  },
  {
   "cell_type": "code",
   "execution_count": 34,
   "metadata": {},
   "outputs": [
    {
     "data": {
      "text/plain": [
       "<div class=\"property-card-primary-info\">\n",
       "<div class=\"pdp-listing-type sale\">FOR SALE</div>\n",
       "<a class=\"listing-price\" href=\"/property/1620-w-2nd-st-19-rock-springs-wy-82901-CBR50146466\">\n",
       "         \n",
       "            \n",
       "               $37,000\n",
       "            \n",
       "            \n",
       "         \n",
       "      </a>\n",
       "<div class=\"col-wrap-mid\">\n",
       "<div class=\"property-beds\">\n",
       "<strong>3</strong> beds\n",
       "         </div>\n",
       "<div class=\"property-baths\">\n",
       "<strong>2</strong> baths\n",
       "         </div>\n",
       "</div>\n",
       "<div class=\"col-wrap-last\">\n",
       "<div class=\"property-sqft\">\n",
       "<strong>1,296</strong> sq. ft\n",
       "         </div>\n",
       "</div>\n",
       "<div class=\"property-address-info\">\n",
       "<div class=\"property-address\" title=\"1620 W 2nd St #19\">\n",
       "               1620 W 2nd St #19\n",
       "            </div>\n",
       "<div class=\"property-city\">\n",
       "            Rock Springs WY 82901\n",
       "         </div>\n",
       "</div>\n",
       "<div class=\"property-card-attribution\">\n",
       "               Courtesy Of Coldwell Banker Sweetwater Realty\n",
       "            \n",
       "         </div>\n",
       "</div>"
      ]
     },
     "execution_count": 34,
     "metadata": {},
     "output_type": "execute_result"
    }
   ],
   "source": [
    "inf_cont[1]"
   ]
  },
  {
   "cell_type": "code",
   "execution_count": 41,
   "metadata": {},
   "outputs": [
    {
     "data": {
      "text/plain": [
       "'Rock Springs WY 82901'"
      ]
     },
     "execution_count": 41,
     "metadata": {},
     "output_type": "execute_result"
    }
   ],
   "source": [
    "beds = inf_cont[1].find(\"div\",{\"class\":\"property-beds\"}).find(\"strong\").text\n",
    "baths = inf_cont[1].find(\"div\",{\"class\":\"property-baths\"}).find(\"strong\").text\n",
    "city = inf_cont[1].find(\"div\",{\"class\":\"property-city\"}).text.strip()"
   ]
  },
  {
   "cell_type": "markdown",
   "metadata": {},
   "source": [
    "#### Iterating through a pandas data fame is expensive. So create a list of dicts and change it to data frame"
   ]
  },
  {
   "cell_type": "code",
   "execution_count": 53,
   "metadata": {},
   "outputs": [
    {
     "data": {
      "text/html": [
       "<div>\n",
       "<style scoped>\n",
       "    .dataframe tbody tr th:only-of-type {\n",
       "        vertical-align: middle;\n",
       "    }\n",
       "\n",
       "    .dataframe tbody tr th {\n",
       "        vertical-align: top;\n",
       "    }\n",
       "\n",
       "    .dataframe thead th {\n",
       "        text-align: right;\n",
       "    }\n",
       "</style>\n",
       "<table border=\"1\" class=\"dataframe\">\n",
       "  <thead>\n",
       "    <tr style=\"text-align: right;\">\n",
       "      <th></th>\n",
       "      <th>area (sq.feet)</th>\n",
       "      <th>baths</th>\n",
       "      <th>beds</th>\n",
       "      <th>city</th>\n",
       "      <th>price ($)</th>\n",
       "    </tr>\n",
       "  </thead>\n",
       "  <tbody>\n",
       "    <tr>\n",
       "      <th>0</th>\n",
       "      <td>1,204</td>\n",
       "      <td>1</td>\n",
       "      <td>3</td>\n",
       "      <td>Rock Springs WY 82901</td>\n",
       "      <td>58,900</td>\n",
       "    </tr>\n",
       "    <tr>\n",
       "      <th>1</th>\n",
       "      <td>1,296</td>\n",
       "      <td>2</td>\n",
       "      <td>3</td>\n",
       "      <td>Rock Springs WY 82901</td>\n",
       "      <td>37,000</td>\n",
       "    </tr>\n",
       "    <tr>\n",
       "      <th>2</th>\n",
       "      <td>4,560</td>\n",
       "      <td>2</td>\n",
       "      <td>6</td>\n",
       "      <td>Rock Springs WY 82901</td>\n",
       "      <td>430,000</td>\n",
       "    </tr>\n",
       "    <tr>\n",
       "      <th>3</th>\n",
       "      <td>1,344</td>\n",
       "      <td>2</td>\n",
       "      <td>3</td>\n",
       "      <td>Rock Springs WY 82901</td>\n",
       "      <td>120,800</td>\n",
       "    </tr>\n",
       "    <tr>\n",
       "      <th>4</th>\n",
       "      <td>NA</td>\n",
       "      <td>1</td>\n",
       "      <td>4</td>\n",
       "      <td>Rock Springs WY 82901</td>\n",
       "      <td>150,000</td>\n",
       "    </tr>\n",
       "    <tr>\n",
       "      <th>5</th>\n",
       "      <td>NA</td>\n",
       "      <td>NA</td>\n",
       "      <td>4</td>\n",
       "      <td>Rock Springs WY 82901</td>\n",
       "      <td>230,000</td>\n",
       "    </tr>\n",
       "    <tr>\n",
       "      <th>6</th>\n",
       "      <td>NA</td>\n",
       "      <td>NA</td>\n",
       "      <td>3</td>\n",
       "      <td>Rock Springs WY 82901</td>\n",
       "      <td>200,000</td>\n",
       "    </tr>\n",
       "    <tr>\n",
       "      <th>7</th>\n",
       "      <td>NA</td>\n",
       "      <td>2</td>\n",
       "      <td>3</td>\n",
       "      <td>Rock Springs WY 82901</td>\n",
       "      <td>219,000</td>\n",
       "    </tr>\n",
       "    <tr>\n",
       "      <th>8</th>\n",
       "      <td>NA</td>\n",
       "      <td>NA</td>\n",
       "      <td>4</td>\n",
       "      <td>Rock Springs WY 82901</td>\n",
       "      <td>220,000</td>\n",
       "    </tr>\n",
       "    <tr>\n",
       "      <th>9</th>\n",
       "      <td>960</td>\n",
       "      <td>2</td>\n",
       "      <td>5</td>\n",
       "      <td>Rock Springs WY 82901</td>\n",
       "      <td>179,900</td>\n",
       "    </tr>\n",
       "    <tr>\n",
       "      <th>10</th>\n",
       "      <td>NA</td>\n",
       "      <td>NA</td>\n",
       "      <td>NA</td>\n",
       "      <td>Rock Springs WY 82901</td>\n",
       "      <td>15,000</td>\n",
       "    </tr>\n",
       "    <tr>\n",
       "      <th>11</th>\n",
       "      <td>1,324</td>\n",
       "      <td>1</td>\n",
       "      <td>2</td>\n",
       "      <td>Rock Springs WY 82901</td>\n",
       "      <td>99,900</td>\n",
       "    </tr>\n",
       "  </tbody>\n",
       "</table>\n",
       "</div>"
      ],
      "text/plain": [
       "   area (sq.feet) baths beds                   city price ($)\n",
       "0           1,204     1    3  Rock Springs WY 82901    58,900\n",
       "1           1,296     2    3  Rock Springs WY 82901    37,000\n",
       "2           4,560     2    6  Rock Springs WY 82901   430,000\n",
       "3           1,344     2    3  Rock Springs WY 82901   120,800\n",
       "4              NA     1    4  Rock Springs WY 82901   150,000\n",
       "5              NA    NA    4  Rock Springs WY 82901   230,000\n",
       "6              NA    NA    3  Rock Springs WY 82901   200,000\n",
       "7              NA     2    3  Rock Springs WY 82901   219,000\n",
       "8              NA    NA    4  Rock Springs WY 82901   220,000\n",
       "9             960     2    5  Rock Springs WY 82901   179,900\n",
       "10             NA    NA   NA  Rock Springs WY 82901    15,000\n",
       "11          1,324     1    2  Rock Springs WY 82901    99,900"
      ]
     },
     "execution_count": 53,
     "metadata": {},
     "output_type": "execute_result"
    }
   ],
   "source": [
    "data_list = []\n",
    "for id, item in enumerate(inf_cont):\n",
    "    try:\n",
    "        price = item.find(\"a\").text.strip()\n",
    "        price = price.replace(\"$\",\"\")\n",
    "    except AttributeError:\n",
    "        price = 0\n",
    "    try:    \n",
    "        area = item.find(\"div\",{\"class\" : \"property-sqft\"}).find(\"strong\").text\n",
    "    except AttributeError:\n",
    "        area = \"NA\"\n",
    "    \n",
    "    try:    \n",
    "        beds = item.find(\"div\",{\"class\":\"property-beds\"}).find(\"strong\").text\n",
    "    except AttributeError:\n",
    "        beds = \"NA\"\n",
    "        \n",
    "    try:    \n",
    "        baths = item.find(\"div\",{\"class\":\"property-baths\"}).find(\"strong\").text\n",
    "    except AttributeError:\n",
    "        baths = \"NA\"\n",
    "        \n",
    "    try:    \n",
    "        city = item.find(\"div\",{\"class\":\"property-city\"}).text.strip()\n",
    "    except AttributeError:\n",
    "        city = \"NA\"\n",
    "\n",
    "    data = {}\n",
    "    data[\"price ($)\"] = price\n",
    "    data[\"area (sq.feet)\"] = area\n",
    "    data[\"beds\"] = beds\n",
    "    data[\"baths\"] = baths\n",
    "    data[\"city\"] = city\n",
    "    data_list.append(data)\n",
    "\n",
    "import pandas as pd\n",
    "df = pd.DataFrame(data_list)\n",
    "df"
   ]
  },
  {
   "cell_type": "markdown",
   "metadata": {},
   "source": [
    "#### Write to CSV file"
   ]
  },
  {
   "cell_type": "code",
   "execution_count": 55,
   "metadata": {},
   "outputs": [],
   "source": [
    "df.to_csv(\"Real_estate_data.csv\")"
   ]
  },
  {
   "cell_type": "code",
   "execution_count": null,
   "metadata": {},
   "outputs": [],
   "source": []
  }
 ],
 "metadata": {
  "kernelspec": {
   "display_name": "Python 3",
   "language": "python",
   "name": "python3"
  },
  "language_info": {
   "codemirror_mode": {
    "name": "ipython",
    "version": 3
   },
   "file_extension": ".py",
   "mimetype": "text/x-python",
   "name": "python",
   "nbconvert_exporter": "python",
   "pygments_lexer": "ipython3",
   "version": "3.4.3"
  }
 },
 "nbformat": 4,
 "nbformat_minor": 2
}
