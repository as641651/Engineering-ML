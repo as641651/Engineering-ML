{
 "cells": [
  {
   "cell_type": "markdown",
   "metadata": {},
   "source": [
    "## Basic Web Scrapping\n",
    "\n",
    "### Loading the source code of a web page"
   ]
  },
  {
   "cell_type": "code",
   "execution_count": 2,
   "metadata": {},
   "outputs": [
    {
     "name": "stdout",
     "output_type": "stream",
     "text": [
      "Help on package requests:\n",
      "\n",
      "NAME\n",
      "    requests\n",
      "\n",
      "DESCRIPTION\n",
      "    requests HTTP library\n",
      "    ~~~~~~~~~~~~~~~~~~~~~\n",
      "    \n",
      "    Requests is an HTTP library, written in Python, for human beings. Basic GET\n",
      "    usage:\n",
      "    \n",
      "       >>> import requests\n",
      "       >>> r = requests.get('http://python.org')\n",
      "       >>> r.status_code\n",
      "       200\n",
      "       >>> 'Python is a programming language' in r.content\n",
      "       True\n",
      "    \n",
      "    ... or POST:\n",
      "    \n",
      "       >>> payload = dict(key1='value1', key2='value2')\n",
      "       >>> r = requests.post(\"http://httpbin.org/post\", data=payload)\n",
      "       >>> print(r.text)\n",
      "       {\n",
      "         ...\n",
      "         \"form\": {\n",
      "           \"key2\": \"value2\",\n",
      "           \"key1\": \"value1\"\n",
      "         },\n",
      "         ...\n",
      "       }\n",
      "    \n",
      "    The other HTTP methods are supported - see `requests.api`. Full documentation\n",
      "    is at <http://python-requests.org>.\n",
      "    \n",
      "    :copyright: (c) 2014 by Kenneth Reitz.\n",
      "    :license: Apache 2.0, see LICENSE for more details.\n",
      "\n",
      "PACKAGE CONTENTS\n",
      "    adapters\n",
      "    api\n",
      "    auth\n",
      "    certs\n",
      "    compat\n",
      "    cookies\n",
      "    exceptions\n",
      "    hooks\n",
      "    models\n",
      "    sessions\n",
      "    status_codes\n",
      "    structures\n",
      "    utils\n",
      "\n",
      "DATA\n",
      "    __build__ = 131585\n",
      "    __copyright__ = 'Copyright 2014 Kenneth Reitz'\n",
      "    __license__ = 'Apache 2.0'\n",
      "    __title__ = 'requests'\n",
      "    codes = <lookup 'status_codes'>\n",
      "\n",
      "VERSION\n",
      "    2.2.1\n",
      "\n",
      "AUTHOR\n",
      "    Kenneth Reitz\n",
      "\n",
      "FILE\n",
      "    /usr/lib/python3/dist-packages/requests/__init__.py\n",
      "\n",
      "\n"
     ]
    }
   ],
   "source": [
    "import requests\n",
    "help(requests)"
   ]
  },
  {
   "cell_type": "code",
   "execution_count": 5,
   "metadata": {},
   "outputs": [],
   "source": [
    "r = requests.get('https://pythonhow.com/example.html')"
   ]
  },
  {
   "cell_type": "code",
   "execution_count": 6,
   "metadata": {},
   "outputs": [
    {
     "data": {
      "text/plain": [
       "requests.models.Response"
      ]
     },
     "execution_count": 6,
     "metadata": {},
     "output_type": "execute_result"
    }
   ],
   "source": [
    "type(r)"
   ]
  },
  {
   "cell_type": "code",
   "execution_count": 8,
   "metadata": {},
   "outputs": [
    {
     "data": {
      "text/plain": [
       "b'<!DOCTYPE html>\\n<html>\\n<head>\\n<style>\\ndiv.cities {\\n    background-color:black;\\n    color:white;\\n    margin:20px;\\n    padding:20px;\\n} \\n</style>\\n</head>\\n<body>\\n\\n<h1 align=\"center\"> Here are three big cities </h1>\\n\\n<div class=\"cities\">\\n<h2>London</h2>\\n<p>London is the capital of England and it\\'s been a British settlement since 2000 years ago. </p>\\n</div>\\n\\n<div class=\"cities\">\\n<h2>Paris</h2>\\n<p>Paris is the capital city of France. It was declared capital since 508.</p>\\n</div>\\n\\n<div class=\"cities\">\\n<h2>Tokyo</h2>\\n<p>Tokyo is the capital of Japan and one of the most populated cities in the world.</p>\\n</div>\\n\\n</body>\\n</html>'"
      ]
     },
     "execution_count": 8,
     "metadata": {},
     "output_type": "execute_result"
    }
   ],
   "source": [
    "c = r.content\n",
    "c"
   ]
  },
  {
   "cell_type": "code",
   "execution_count": 9,
   "metadata": {},
   "outputs": [
    {
     "data": {
      "text/plain": [
       "bytes"
      ]
     },
     "execution_count": 9,
     "metadata": {},
     "output_type": "execute_result"
    }
   ],
   "source": [
    "type(c)"
   ]
  },
  {
   "cell_type": "markdown",
   "metadata": {},
   "source": [
    "#### Use bs4 module to organize the content"
   ]
  },
  {
   "cell_type": "code",
   "execution_count": 12,
   "metadata": {},
   "outputs": [],
   "source": [
    "from bs4 import BeautifulSoup"
   ]
  },
  {
   "cell_type": "code",
   "execution_count": 15,
   "metadata": {},
   "outputs": [
    {
     "name": "stdout",
     "output_type": "stream",
     "text": [
      "<!DOCTYPE html>\n",
      "<html>\n",
      " <head>\n",
      "  <style>\n",
      "   div.cities {\n",
      "    background-color:black;\n",
      "    color:white;\n",
      "    margin:20px;\n",
      "    padding:20px;\n",
      "}\n",
      "  </style>\n",
      " </head>\n",
      " <body>\n",
      "  <h1 align=\"center\">\n",
      "   Here are three big cities\n",
      "  </h1>\n",
      "  <div class=\"cities\">\n",
      "   <h2>\n",
      "    London\n",
      "   </h2>\n",
      "   <p>\n",
      "    London is the capital of England and it's been a British settlement since 2000 years ago.\n",
      "   </p>\n",
      "  </div>\n",
      "  <div class=\"cities\">\n",
      "   <h2>\n",
      "    Paris\n",
      "   </h2>\n",
      "   <p>\n",
      "    Paris is the capital city of France. It was declared capital since 508.\n",
      "   </p>\n",
      "  </div>\n",
      "  <div class=\"cities\">\n",
      "   <h2>\n",
      "    Tokyo\n",
      "   </h2>\n",
      "   <p>\n",
      "    Tokyo is the capital of Japan and one of the most populated cities in the world.\n",
      "   </p>\n",
      "  </div>\n",
      " </body>\n",
      "</html>\n"
     ]
    }
   ],
   "source": [
    "soup = BeautifulSoup(c,'html.parser')\n",
    "print(soup.prettify()) ## Inspection of web page"
   ]
  },
  {
   "cell_type": "markdown",
   "metadata": {},
   "source": [
    "#### Extract all 'div' elements"
   ]
  },
  {
   "cell_type": "code",
   "execution_count": 22,
   "metadata": {},
   "outputs": [
    {
     "data": {
      "text/plain": [
       "[<div class=\"cities\">\n",
       " <h2>London</h2>\n",
       " <p>London is the capital of England and it's been a British settlement since 2000 years ago. </p>\n",
       " </div>, <div class=\"cities\">\n",
       " <h2>Paris</h2>\n",
       " <p>Paris is the capital city of France. It was declared capital since 508.</p>\n",
       " </div>, <div class=\"cities\">\n",
       " <h2>Tokyo</h2>\n",
       " <p>Tokyo is the capital of Japan and one of the most populated cities in the world.</p>\n",
       " </div>]"
      ]
     },
     "execution_count": 22,
     "metadata": {},
     "output_type": "execute_result"
    }
   ],
   "source": [
    "all = soup.find_all(\"div\",{\"class\":\"cities\"})\n",
    "all"
   ]
  },
  {
   "cell_type": "code",
   "execution_count": 18,
   "metadata": {},
   "outputs": [
    {
     "data": {
      "text/plain": [
       "bs4.element.ResultSet"
      ]
     },
     "execution_count": 18,
     "metadata": {},
     "output_type": "execute_result"
    }
   ],
   "source": [
    "type(all)"
   ]
  },
  {
   "cell_type": "code",
   "execution_count": 21,
   "metadata": {},
   "outputs": [
    {
     "data": {
      "text/plain": [
       "3"
      ]
     },
     "execution_count": 21,
     "metadata": {},
     "output_type": "execute_result"
    }
   ],
   "source": [
    "len(all)"
   ]
  },
  {
   "cell_type": "markdown",
   "metadata": {},
   "source": [
    "#### Extract first 'div' elements"
   ]
  },
  {
   "cell_type": "code",
   "execution_count": 24,
   "metadata": {},
   "outputs": [
    {
     "data": {
      "text/plain": [
       "<div class=\"cities\">\n",
       "<h2>London</h2>\n",
       "<p>London is the capital of England and it's been a British settlement since 2000 years ago. </p>\n",
       "</div>"
      ]
     },
     "execution_count": 24,
     "metadata": {},
     "output_type": "execute_result"
    }
   ],
   "source": [
    "first = soup.find(\"div\",{\"class\":\"cities\"})\n",
    "first"
   ]
  },
  {
   "cell_type": "markdown",
   "metadata": {},
   "source": [
    "#### Get the h2 element"
   ]
  },
  {
   "cell_type": "code",
   "execution_count": 25,
   "metadata": {},
   "outputs": [
    {
     "data": {
      "text/plain": [
       "[<h2>London</h2>]"
      ]
     },
     "execution_count": 25,
     "metadata": {},
     "output_type": "execute_result"
    }
   ],
   "source": [
    "first.find_all(\"h2\")"
   ]
  },
  {
   "cell_type": "code",
   "execution_count": 29,
   "metadata": {},
   "outputs": [
    {
     "data": {
      "text/plain": [
       "'London'"
      ]
     },
     "execution_count": 29,
     "metadata": {},
     "output_type": "execute_result"
    }
   ],
   "source": [
    "first.find_all(\"h2\")[0].text"
   ]
  },
  {
   "cell_type": "code",
   "execution_count": 30,
   "metadata": {},
   "outputs": [
    {
     "name": "stdout",
     "output_type": "stream",
     "text": [
      "London\n",
      "Paris\n",
      "Tokyo\n"
     ]
    }
   ],
   "source": [
    "for item in all:\n",
    "    print(item.find_all(\"h2\")[0].text)"
   ]
  },
  {
   "cell_type": "markdown",
   "metadata": {},
   "source": [
    "#### Get the paragraphs"
   ]
  },
  {
   "cell_type": "code",
   "execution_count": 31,
   "metadata": {},
   "outputs": [
    {
     "name": "stdout",
     "output_type": "stream",
     "text": [
      "London is the capital of England and it's been a British settlement since 2000 years ago. \n",
      "Paris is the capital city of France. It was declared capital since 508.\n",
      "Tokyo is the capital of Japan and one of the most populated cities in the world.\n"
     ]
    }
   ],
   "source": [
    "for item in all:\n",
    "    print(item.find_all(\"p\")[0].text)"
   ]
  },
  {
   "cell_type": "code",
   "execution_count": null,
   "metadata": {},
   "outputs": [],
   "source": []
  }
 ],
 "metadata": {
  "kernelspec": {
   "display_name": "Python 3",
   "language": "python",
   "name": "python3"
  },
  "language_info": {
   "codemirror_mode": {
    "name": "ipython",
    "version": 3
   },
   "file_extension": ".py",
   "mimetype": "text/x-python",
   "name": "python",
   "nbconvert_exporter": "python",
   "pygments_lexer": "ipython3",
   "version": "3.4.3"
  }
 },
 "nbformat": 4,
 "nbformat_minor": 2
}
