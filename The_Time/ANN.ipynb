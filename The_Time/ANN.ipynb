{
 "cells": [
  {
   "cell_type": "markdown",
   "metadata": {},
   "source": [
    "## Predicting with ANN\n",
    "\n",
    "### Get the dataset"
   ]
  },
  {
   "cell_type": "code",
   "execution_count": 7,
   "metadata": {},
   "outputs": [
    {
     "name": "stdout",
     "output_type": "stream",
     "text": [
      "2741 2741\n"
     ]
    }
   ],
   "source": [
    "import pandas as pd\n",
    "from dateutil import parser, rrule\n",
    "import numpy as np\n",
    "import getDegrees_Y \n",
    "import numpy as np\n",
    "np.set_printoptions(precision=3)\n",
    "np.set_printoptions(suppress=True)\n",
    "\n",
    "\n",
    "start_date = \"2005-06-01\"\n",
    "end_date = \"2012-12-1\"\n",
    "\n",
    "temperatures = pd.read_csv(\"Chennai_temperature_data.csv\")\n",
    "Y_keys = temperatures.keys()\n",
    "#print(pd.DataFrame(Y_keys))\n",
    "planet_data = pd.read_csv(\"Chennai_PP_data.csv\")\n",
    "\n",
    "dates_string = getDegrees_Y.getDateString(start_date,end_date)\n",
    "ret = getDegrees_Y.getDegrees_Y(dates_string,temperatures,planet_data,6)\n",
    "print(len(ret[\"X\"]),len(ret[\"Y\"]))"
   ]
  },
  {
   "cell_type": "code",
   "execution_count": 5,
   "metadata": {},
   "outputs": [
    {
     "name": "stdout",
     "output_type": "stream",
     "text": [
      "                        0\n",
      "0   Ascendant (As)_Degree\n",
      "1     Jupiter (Ju)_Degree\n",
      "2        Ketu (Ke)_Degree\n",
      "3        Mars (Ma)_Degree\n",
      "4     Mercury (Me)_Degree\n",
      "5        Moon (Mo)_Degree\n",
      "6     Neptune (Ne)_Degree\n",
      "7        Rahu (Ra)_Degree\n",
      "8      Saturn (Sa)_Degree\n",
      "9         Sun (Su)_Degree\n",
      "10       True Ketu_Degree\n",
      "11       True Rahu_Degree\n",
      "12     Uranus (Ur)_Degree\n",
      "13      Venus (Ve)_Degree\n"
     ]
    },
    {
     "data": {
      "text/html": [
       "<div>\n",
       "<style scoped>\n",
       "    .dataframe tbody tr th:only-of-type {\n",
       "        vertical-align: middle;\n",
       "    }\n",
       "\n",
       "    .dataframe tbody tr th {\n",
       "        vertical-align: top;\n",
       "    }\n",
       "\n",
       "    .dataframe thead th {\n",
       "        text-align: right;\n",
       "    }\n",
       "</style>\n",
       "<table border=\"1\" class=\"dataframe\">\n",
       "  <thead>\n",
       "    <tr style=\"text-align: right;\">\n",
       "      <th></th>\n",
       "      <th>0</th>\n",
       "      <th>1</th>\n",
       "      <th>2</th>\n",
       "      <th>3</th>\n",
       "      <th>4</th>\n",
       "      <th>5</th>\n",
       "      <th>6</th>\n",
       "      <th>7</th>\n",
       "      <th>8</th>\n",
       "      <th>9</th>\n",
       "      <th>10</th>\n",
       "      <th>11</th>\n",
       "      <th>12</th>\n",
       "      <th>13</th>\n",
       "    </tr>\n",
       "  </thead>\n",
       "  <tbody>\n",
       "    <tr>\n",
       "      <th>0</th>\n",
       "      <td>133.92</td>\n",
       "      <td>165.02</td>\n",
       "      <td>176.37</td>\n",
       "      <td>328.45</td>\n",
       "      <td>44.31</td>\n",
       "      <td>339.65</td>\n",
       "      <td>293.62</td>\n",
       "      <td>356.37</td>\n",
       "      <td>90.62</td>\n",
       "      <td>46.93</td>\n",
       "      <td>177.81</td>\n",
       "      <td>357.81</td>\n",
       "      <td>316.75</td>\n",
       "      <td>63.17</td>\n",
       "    </tr>\n",
       "    <tr>\n",
       "      <th>1</th>\n",
       "      <td>134.78</td>\n",
       "      <td>165.01</td>\n",
       "      <td>176.32</td>\n",
       "      <td>329.15</td>\n",
       "      <td>46.5</td>\n",
       "      <td>353.02</td>\n",
       "      <td>293.62</td>\n",
       "      <td>356.32</td>\n",
       "      <td>90.73</td>\n",
       "      <td>47.89</td>\n",
       "      <td>177.82</td>\n",
       "      <td>357.82</td>\n",
       "      <td>316.76</td>\n",
       "      <td>64.39</td>\n",
       "    </tr>\n",
       "    <tr>\n",
       "      <th>2</th>\n",
       "      <td>135.64</td>\n",
       "      <td>165</td>\n",
       "      <td>176.27</td>\n",
       "      <td>329.86</td>\n",
       "      <td>48.7</td>\n",
       "      <td>6.16</td>\n",
       "      <td>293.61</td>\n",
       "      <td>356.27</td>\n",
       "      <td>90.84</td>\n",
       "      <td>48.84</td>\n",
       "      <td>177.82</td>\n",
       "      <td>357.82</td>\n",
       "      <td>316.77</td>\n",
       "      <td>65.61</td>\n",
       "    </tr>\n",
       "    <tr>\n",
       "      <th>3</th>\n",
       "      <td>136.5</td>\n",
       "      <td>164.99</td>\n",
       "      <td>176.21</td>\n",
       "      <td>330.57</td>\n",
       "      <td>50.91</td>\n",
       "      <td>19.08</td>\n",
       "      <td>293.6</td>\n",
       "      <td>356.21</td>\n",
       "      <td>90.95</td>\n",
       "      <td>49.8</td>\n",
       "      <td>177.78</td>\n",
       "      <td>357.78</td>\n",
       "      <td>316.78</td>\n",
       "      <td>66.84</td>\n",
       "    </tr>\n",
       "    <tr>\n",
       "      <th>4</th>\n",
       "      <td>137.36</td>\n",
       "      <td>164.99</td>\n",
       "      <td>176.16</td>\n",
       "      <td>331.27</td>\n",
       "      <td>53.11</td>\n",
       "      <td>31.81</td>\n",
       "      <td>293.59</td>\n",
       "      <td>356.16</td>\n",
       "      <td>91.05</td>\n",
       "      <td>50.76</td>\n",
       "      <td>177.71</td>\n",
       "      <td>357.71</td>\n",
       "      <td>316.79</td>\n",
       "      <td>68.06</td>\n",
       "    </tr>\n",
       "  </tbody>\n",
       "</table>\n",
       "</div>"
      ],
      "text/plain": [
       "       0       1       2       3      4       5       6       7      8   \\\n",
       "0  133.92  165.02  176.37  328.45  44.31  339.65  293.62  356.37  90.62   \n",
       "1  134.78  165.01  176.32  329.15   46.5  353.02  293.62  356.32  90.73   \n",
       "2  135.64     165  176.27  329.86   48.7    6.16  293.61  356.27  90.84   \n",
       "3   136.5  164.99  176.21  330.57  50.91   19.08   293.6  356.21  90.95   \n",
       "4  137.36  164.99  176.16  331.27  53.11   31.81  293.59  356.16  91.05   \n",
       "\n",
       "      9       10      11      12     13  \n",
       "0  46.93  177.81  357.81  316.75  63.17  \n",
       "1  47.89  177.82  357.82  316.76  64.39  \n",
       "2  48.84  177.82  357.82  316.77  65.61  \n",
       "3   49.8  177.78  357.78  316.78  66.84  \n",
       "4  50.76  177.71  357.71  316.79  68.06  "
      ]
     },
     "execution_count": 5,
     "metadata": {},
     "output_type": "execute_result"
    }
   ],
   "source": [
    "print(pd.DataFrame(ret[\"X_keys\"]))\n",
    "pd.DataFrame(ret[\"X\"][:5])"
   ]
  },
  {
   "cell_type": "markdown",
   "metadata": {},
   "source": [
    "### Keep high freq planets"
   ]
  },
  {
   "cell_type": "code",
   "execution_count": 11,
   "metadata": {},
   "outputs": [],
   "source": [
    "X_d = ret[\"X\"][:,[3,4,5,9,13]]#Keep mars,mercury,moon,sun,venus"
   ]
  },
  {
   "cell_type": "markdown",
   "metadata": {},
   "source": [
    "### Scale the features"
   ]
  },
  {
   "cell_type": "code",
   "execution_count": 31,
   "metadata": {},
   "outputs": [
    {
     "name": "stderr",
     "output_type": "stream",
     "text": [
      "/usr/local/lib/python3.4/dist-packages/sklearn/utils/validation.py:475: DataConversionWarning: Data with input dtype object was converted to float64 by StandardScaler.\n",
      "  warnings.warn(msg, DataConversionWarning)\n"
     ]
    },
    {
     "data": {
      "text/plain": [
       "(2741, 1)"
      ]
     },
     "execution_count": 31,
     "metadata": {},
     "output_type": "execute_result"
    }
   ],
   "source": [
    "from sklearn.preprocessing import StandardScaler\n",
    "\n",
    "sc_X = StandardScaler()\n",
    "X_tr = sc_X.fit_transform(X_d)\n",
    "\n",
    "#sc_Y = StandardScaler()\n",
    "#y_tr = sc_Y.fit_transform(ret[\"Y\"][:,-1].reshape(-1,1))\n",
    "\n",
    "y_tr = ret[\"Y\"][:,-1].reshape(-1,1)\n",
    "\n",
    "X_tr.shape\n",
    "y_tr.shape"
   ]
  },
  {
   "cell_type": "markdown",
   "metadata": {},
   "source": [
    "### Build ANN Regressor"
   ]
  },
  {
   "cell_type": "code",
   "execution_count": 32,
   "metadata": {},
   "outputs": [
    {
     "name": "stdout",
     "output_type": "stream",
     "text": [
      "_________________________________________________________________\n",
      "Layer (type)                 Output Shape              Param #   \n",
      "=================================================================\n",
      "dense_17 (Dense)             (None, 5)                 30        \n",
      "_________________________________________________________________\n",
      "dense_18 (Dense)             (None, 5)                 30        \n",
      "_________________________________________________________________\n",
      "dense_19 (Dense)             (None, 5)                 30        \n",
      "_________________________________________________________________\n",
      "dense_20 (Dense)             (None, 1)                 6         \n",
      "=================================================================\n",
      "Total params: 96\n",
      "Trainable params: 96\n",
      "Non-trainable params: 0\n",
      "_________________________________________________________________\n",
      "None\n"
     ]
    }
   ],
   "source": [
    "from keras.models import Sequential\n",
    "from keras.layers import Dense\n",
    "\n",
    "regressor = Sequential()\n",
    "## 2 hidden layers with 5 nodes each\n",
    "regressor.add(Dense(units=5,kernel_initializer='uniform',activation='relu',input_shape=(5,)))\n",
    "regressor.add(Dense(units=5,kernel_initializer='uniform',activation='relu'))\n",
    "regressor.add(Dense(units=5,kernel_initializer='uniform',activation='relu'))\n",
    "\n",
    "## Output layer \n",
    "regressor.add(Dense(units=1,kernel_initializer='uniform',activation=None))\n",
    "\n",
    "print(regressor.summary())"
   ]
  },
  {
   "cell_type": "code",
   "execution_count": 33,
   "metadata": {},
   "outputs": [],
   "source": [
    "regressor.compile(optimizer='adam',loss='mean_squared_error')"
   ]
  },
  {
   "cell_type": "code",
   "execution_count": 34,
   "metadata": {},
   "outputs": [
    {
     "name": "stdout",
     "output_type": "stream",
     "text": [
      "Epoch 1/50\n",
      "2741/2741 [==============================] - 1s 227us/step - loss: 784.3868\n",
      "Epoch 2/50\n",
      "2741/2741 [==============================] - 0s 165us/step - loss: 215.1241\n",
      "Epoch 3/50\n",
      "2741/2741 [==============================] - 0s 163us/step - loss: 14.6355\n",
      "Epoch 4/50\n",
      "2741/2741 [==============================] - 0s 166us/step - loss: 7.7823\n",
      "Epoch 5/50\n",
      "2741/2741 [==============================] - 0s 165us/step - loss: 5.3988\n",
      "Epoch 6/50\n",
      "2741/2741 [==============================] - 0s 164us/step - loss: 4.1801\n",
      "Epoch 7/50\n",
      "2741/2741 [==============================] - 0s 165us/step - loss: 3.4685\n",
      "Epoch 8/50\n",
      "2741/2741 [==============================] - 0s 166us/step - loss: 3.0105\n",
      "Epoch 9/50\n",
      "2741/2741 [==============================] - 0s 166us/step - loss: 2.7925\n",
      "Epoch 10/50\n",
      "2741/2741 [==============================] - 0s 176us/step - loss: 2.6568\n",
      "Epoch 11/50\n",
      "2741/2741 [==============================] - 0s 169us/step - loss: 2.5906\n",
      "Epoch 12/50\n",
      "2741/2741 [==============================] - 0s 164us/step - loss: 2.5315\n",
      "Epoch 13/50\n",
      "2741/2741 [==============================] - 0s 168us/step - loss: 2.4732\n",
      "Epoch 14/50\n",
      "2741/2741 [==============================] - 0s 176us/step - loss: 2.4605\n",
      "Epoch 15/50\n",
      "2741/2741 [==============================] - 0s 166us/step - loss: 2.4356\n",
      "Epoch 16/50\n",
      "2741/2741 [==============================] - 0s 167us/step - loss: 2.4152\n",
      "Epoch 17/50\n",
      "2741/2741 [==============================] - 0s 166us/step - loss: 2.4147\n",
      "Epoch 18/50\n",
      "2741/2741 [==============================] - 0s 165us/step - loss: 2.3822\n",
      "Epoch 19/50\n",
      "2741/2741 [==============================] - 0s 168us/step - loss: 2.3754\n",
      "Epoch 20/50\n",
      "2741/2741 [==============================] - 0s 165us/step - loss: 2.3426\n",
      "Epoch 21/50\n",
      "2741/2741 [==============================] - 0s 165us/step - loss: 2.3151\n",
      "Epoch 22/50\n",
      "2741/2741 [==============================] - 0s 165us/step - loss: 2.2989\n",
      "Epoch 23/50\n",
      "2741/2741 [==============================] - 0s 173us/step - loss: 2.2872\n",
      "Epoch 24/50\n",
      "2741/2741 [==============================] - 0s 167us/step - loss: 2.2986\n",
      "Epoch 25/50\n",
      "2741/2741 [==============================] - 0s 174us/step - loss: 2.2633\n",
      "Epoch 26/50\n",
      "2741/2741 [==============================] - 1s 186us/step - loss: 2.2471\n",
      "Epoch 27/50\n",
      "2741/2741 [==============================] - 0s 177us/step - loss: 2.2304\n",
      "Epoch 28/50\n",
      "2741/2741 [==============================] - 0s 177us/step - loss: 2.1958\n",
      "Epoch 29/50\n",
      "2741/2741 [==============================] - 0s 164us/step - loss: 2.2181\n",
      "Epoch 30/50\n",
      "2741/2741 [==============================] - 0s 166us/step - loss: 2.2262\n",
      "Epoch 31/50\n",
      "2741/2741 [==============================] - 0s 168us/step - loss: 2.2033\n",
      "Epoch 32/50\n",
      "2741/2741 [==============================] - 0s 165us/step - loss: 2.2003\n",
      "Epoch 33/50\n",
      "2741/2741 [==============================] - 0s 169us/step - loss: 2.1771\n",
      "Epoch 34/50\n",
      "2741/2741 [==============================] - 0s 168us/step - loss: 2.1910\n",
      "Epoch 35/50\n",
      "2741/2741 [==============================] - 0s 166us/step - loss: 2.2065\n",
      "Epoch 36/50\n",
      "2741/2741 [==============================] - 0s 170us/step - loss: 2.1765\n",
      "Epoch 37/50\n",
      "2741/2741 [==============================] - 0s 172us/step - loss: 2.1718\n",
      "Epoch 38/50\n",
      "2741/2741 [==============================] - 0s 172us/step - loss: 2.1744\n",
      "Epoch 39/50\n",
      "2741/2741 [==============================] - 0s 166us/step - loss: 2.1928\n",
      "Epoch 40/50\n",
      "2741/2741 [==============================] - 0s 167us/step - loss: 2.1700\n",
      "Epoch 41/50\n",
      "2741/2741 [==============================] - 0s 169us/step - loss: 2.1561\n",
      "Epoch 42/50\n",
      "2741/2741 [==============================] - 0s 166us/step - loss: 2.1609\n",
      "Epoch 43/50\n",
      "2741/2741 [==============================] - 0s 178us/step - loss: 2.1595\n",
      "Epoch 44/50\n",
      "2741/2741 [==============================] - 0s 166us/step - loss: 2.1698\n",
      "Epoch 45/50\n",
      "2741/2741 [==============================] - 0s 167us/step - loss: 2.1630\n",
      "Epoch 46/50\n",
      "2741/2741 [==============================] - 0s 172us/step - loss: 2.1621\n",
      "Epoch 47/50\n",
      "2741/2741 [==============================] - 0s 174us/step - loss: 2.1609\n",
      "Epoch 48/50\n",
      "2741/2741 [==============================] - 0s 166us/step - loss: 2.1761\n",
      "Epoch 49/50\n",
      "2741/2741 [==============================] - 0s 166us/step - loss: 2.1581\n",
      "Epoch 50/50\n",
      "2741/2741 [==============================] - 0s 163us/step - loss: 2.1500\n"
     ]
    },
    {
     "data": {
      "text/plain": [
       "<keras.callbacks.History at 0x7fd4b624f0b8>"
      ]
     },
     "execution_count": 34,
     "metadata": {},
     "output_type": "execute_result"
    }
   ],
   "source": [
    "regressor.fit(X_tr,y_tr,batch_size=10,epochs=50)"
   ]
  },
  {
   "cell_type": "code",
   "execution_count": 35,
   "metadata": {},
   "outputs": [
    {
     "name": "stdout",
     "output_type": "stream",
     "text": [
      "1431 1431\n"
     ]
    },
    {
     "name": "stderr",
     "output_type": "stream",
     "text": [
      "/usr/local/lib/python3.4/dist-packages/sklearn/utils/validation.py:475: DataConversionWarning: Data with input dtype object was converted to float64 by StandardScaler.\n",
      "  warnings.warn(msg, DataConversionWarning)\n"
     ]
    },
    {
     "data": {
      "image/png": "[encoded data removed]",
      "text/plain": [
       "<matplotlib.figure.Figure at 0x7fd4b5faa978>"
      ]
     },
     "metadata": {},
     "output_type": "display_data"
    },
    {
     "data": {
      "image/png": "[encoded data removed]",
      "text/plain": [
       "<matplotlib.figure.Figure at 0x7fd4b695dcf8>"
      ]
     },
     "metadata": {},
     "output_type": "display_data"
    }
   ],
   "source": [
    "start_date = \"2013-01-01\"\n",
    "end_date = \"2016-12-1\"\n",
    "dates_string = getDegrees_Y.getDateString(start_date,end_date)\n",
    "ret1 = getDegrees_Y.getDegrees_Y(dates_string,temperatures,planet_data,6)\n",
    "print(len(ret1[\"X\"]),len(ret1[\"Y\"]))\n",
    "\n",
    "X_td = ret1[\"X\"][:,[3,4,5,9,13]]\n",
    "X_test = sc_X.transform(X_td)\n",
    "y_pred = regressor.predict(X_test)\n",
    "%matplotlib inline \n",
    "#Needed to inline graphs\n",
    "import matplotlib.pyplot as plt\n",
    "\n",
    "plt.plot(y_pred,label=\"pred\")\n",
    "plt.legend()\n",
    "plt.show()\n",
    "plt.plot(ret1[\"Y\"][:,-1],label=\"actual\")\n",
    "plt.legend()\n",
    "plt.show()"
   ]
  },
  {
   "cell_type": "code",
   "execution_count": 36,
   "metadata": {},
   "outputs": [
    {
     "name": "stdout",
     "output_type": "stream",
     "text": [
      "1431/1431 [==============================] - 0s 48us/step\n"
     ]
    },
    {
     "data": {
      "text/plain": [
       "2.6792488744590433"
      ]
     },
     "execution_count": 36,
     "metadata": {},
     "output_type": "execute_result"
    }
   ],
   "source": [
    "regressor.evaluate(X_test,ret1[\"Y\"][:,-1].reshape(-1,1))"
   ]
  },
  {
   "cell_type": "markdown",
   "metadata": {},
   "source": [
    "### Consolidated code"
   ]
  },
  {
   "cell_type": "code",
   "execution_count": 45,
   "metadata": {},
   "outputs": [
    {
     "name": "stdout",
     "output_type": "stream",
     "text": [
      "_________________________________________________________________\n",
      "Layer (type)                 Output Shape              Param #   \n",
      "=================================================================\n",
      "dense_42 (Dense)             (None, 5)                 30        \n",
      "_________________________________________________________________\n",
      "dense_43 (Dense)             (None, 5)                 30        \n",
      "_________________________________________________________________\n",
      "dense_44 (Dense)             (None, 5)                 30        \n",
      "_________________________________________________________________\n",
      "dense_45 (Dense)             (None, 1)                 6         \n",
      "=================================================================\n",
      "Total params: 96\n",
      "Trainable params: 96\n",
      "Non-trainable params: 0\n",
      "_________________________________________________________________\n",
      "None\n",
      "Training data : 1645 1645\n",
      "Epoch 1/50\n",
      "1645/1645 [==============================] - 0s 297us/step - loss: 521.1741\n",
      "Epoch 2/50\n",
      "1645/1645 [==============================] - 0s 168us/step - loss: 132.0799\n",
      "Epoch 3/50\n",
      "1645/1645 [==============================] - 0s 167us/step - loss: 123.1788\n",
      "Epoch 4/50\n",
      "1645/1645 [==============================] - 0s 171us/step - loss: 118.8175\n",
      "Epoch 5/50\n",
      "1645/1645 [==============================] - 0s 172us/step - loss: 115.5074\n",
      "Epoch 6/50\n",
      "1645/1645 [==============================] - 0s 175us/step - loss: 114.2087\n",
      "Epoch 7/50\n",
      "1645/1645 [==============================] - 0s 168us/step - loss: 111.7016\n",
      "Epoch 8/50\n",
      "1645/1645 [==============================] - 0s 166us/step - loss: 110.1309\n",
      "Epoch 9/50\n",
      "1645/1645 [==============================] - 0s 169us/step - loss: 108.8700\n",
      "Epoch 10/50\n",
      "1645/1645 [==============================] - 0s 170us/step - loss: 107.0765\n",
      "Epoch 11/50\n",
      "1645/1645 [==============================] - 0s 173us/step - loss: 105.5998\n",
      "Epoch 12/50\n",
      "1645/1645 [==============================] - 0s 178us/step - loss: 103.5808\n",
      "Epoch 13/50\n",
      "1645/1645 [==============================] - 0s 174us/step - loss: 102.4528\n",
      "Epoch 14/50\n",
      "1645/1645 [==============================] - 0s 191us/step - loss: 100.8183\n",
      "Epoch 15/50\n",
      "1645/1645 [==============================] - 0s 187us/step - loss: 99.1110\n",
      "Epoch 16/50\n",
      "1645/1645 [==============================] - 0s 169us/step - loss: 97.3293\n",
      "Epoch 17/50\n",
      "1645/1645 [==============================] - 0s 174us/step - loss: 95.4312\n",
      "Epoch 18/50\n",
      "1645/1645 [==============================] - 0s 194us/step - loss: 93.9069\n",
      "Epoch 19/50\n",
      "1645/1645 [==============================] - 0s 181us/step - loss: 92.1816\n",
      "Epoch 20/50\n",
      "1645/1645 [==============================] - 0s 174us/step - loss: 90.6736\n",
      "Epoch 21/50\n",
      "1645/1645 [==============================] - 0s 171us/step - loss: 88.6253\n",
      "Epoch 22/50\n",
      "1645/1645 [==============================] - 0s 176us/step - loss: 86.2016\n",
      "Epoch 23/50\n",
      "1645/1645 [==============================] - 0s 187us/step - loss: 83.6170\n",
      "Epoch 24/50\n",
      "1645/1645 [==============================] - 0s 193us/step - loss: 81.4003\n",
      "Epoch 25/50\n",
      "1645/1645 [==============================] - 0s 177us/step - loss: 78.6242\n",
      "Epoch 26/50\n",
      "1645/1645 [==============================] - 0s 166us/step - loss: 76.6249\n",
      "Epoch 27/50\n",
      "1645/1645 [==============================] - 0s 174us/step - loss: 73.4496\n",
      "Epoch 28/50\n",
      "1645/1645 [==============================] - 0s 180us/step - loss: 70.0079\n",
      "Epoch 29/50\n",
      "1645/1645 [==============================] - 0s 176us/step - loss: 67.2129\n",
      "Epoch 30/50\n",
      "1645/1645 [==============================] - 0s 177us/step - loss: 63.3354\n",
      "Epoch 31/50\n",
      "1645/1645 [==============================] - 0s 182us/step - loss: 59.8360\n",
      "Epoch 32/50\n",
      "1645/1645 [==============================] - 0s 172us/step - loss: 55.2126\n",
      "Epoch 33/50\n",
      "1645/1645 [==============================] - 0s 170us/step - loss: 49.7040\n",
      "Epoch 34/50\n",
      "1645/1645 [==============================] - 0s 174us/step - loss: 42.9744\n",
      "Epoch 35/50\n",
      "1645/1645 [==============================] - 0s 186us/step - loss: 36.5555\n",
      "Epoch 36/50\n",
      "1645/1645 [==============================] - 0s 170us/step - loss: 30.0066\n",
      "Epoch 37/50\n",
      "1645/1645 [==============================] - 0s 169us/step - loss: 22.6433\n",
      "Epoch 38/50\n",
      "1645/1645 [==============================] - 0s 171us/step - loss: 16.8428\n",
      "Epoch 39/50\n",
      "1645/1645 [==============================] - 0s 185us/step - loss: 12.9873\n",
      "Epoch 40/50\n",
      "1645/1645 [==============================] - 0s 185us/step - loss: 10.0559\n",
      "Epoch 41/50\n",
      "1645/1645 [==============================] - 0s 184us/step - loss: 7.9252\n",
      "Epoch 42/50\n",
      "1645/1645 [==============================] - 0s 174us/step - loss: 6.4355\n",
      "Epoch 43/50\n",
      "1645/1645 [==============================] - 0s 170us/step - loss: 5.4258\n",
      "Epoch 44/50\n",
      "1645/1645 [==============================] - 0s 174us/step - loss: 5.0096\n",
      "Epoch 45/50\n",
      "1645/1645 [==============================] - 0s 177us/step - loss: 4.4299\n",
      "Epoch 46/50\n",
      "1645/1645 [==============================] - 0s 168us/step - loss: 3.9126\n",
      "Epoch 47/50\n",
      "1645/1645 [==============================] - 0s 169us/step - loss: 3.8183\n",
      "Epoch 48/50\n",
      "1645/1645 [==============================] - 0s 174us/step - loss: 3.6998\n",
      "Epoch 49/50\n",
      "1645/1645 [==============================] - 0s 171us/step - loss: 3.5762\n",
      "Epoch 50/50\n",
      "1645/1645 [==============================] - 0s 181us/step - loss: 3.7007\n",
      "Test data  1066 1066\n",
      "1066/1066 [==============================] - 0s 79us/step\n",
      "MSE :  4.878644750221138\n"
     ]
    },
    {
     "data": {
      "image/png": "[encoded data removed]",
      "text/plain": [
       "<matplotlib.figure.Figure at 0x7fd4b0d82588>"
      ]
     },
     "metadata": {},
     "output_type": "display_data"
    }
   ],
   "source": [
    "import pandas as pd\n",
    "from dateutil import parser, rrule\n",
    "import numpy as np\n",
    "import getDegrees_Y \n",
    "import numpy as np\n",
    "from keras.models import Sequential \n",
    "from keras.layers import Dense\n",
    "\n",
    "\n",
    "def train(temperatures,planet_data,start_date,end_date,x_index,y_index,fs,regressor,bs,eph):\n",
    "\n",
    "    dates_string = getDegrees_Y.getDateString(start_date,end_date)\n",
    "    ret = getDegrees_Y.getDegrees_Y(dates_string,temperatures,planet_data,y_index)\n",
    "    print(\"Training data :\", len(ret[\"X\"]),len(ret[\"Y\"]))\n",
    "\n",
    "    X_d = ret[\"X\"][:,x_index]\n",
    "\n",
    "    ##Feature Scaling\n",
    "    from sklearn.preprocessing import StandardScaler\n",
    "\n",
    "    ## Scaling for output is not necessary\n",
    "    if fs:\n",
    "       sc_X = StandardScaler()\n",
    "       X_tr = sc_X.fit_transform(X_d)\n",
    "       y_tr = ret[\"Y\"][:,-1].reshape(-1,1)\n",
    "    else:\n",
    "        X_tr = X_d\n",
    "        y_tr = ret[\"Y\"][:,-1].reshape(-1,1)\n",
    "        sc_X = None\n",
    "        sc_Y = None\n",
    "    \n",
    "    regressor.fit(X_tr,y_tr,batch_size=bs,epochs=eph)\n",
    "    \n",
    "    return {\"reg\":regressor,\"X_tr\":sc_X}\n",
    "\n",
    "def train_test(indep_var_idx,dep_var_idx,feature_scaling,tr_start,tr_end,test_start,test_end,regressor,batch_size,epochs):\n",
    "\n",
    "   temperatures = pd.read_csv(\"Chennai_temperature_data.csv\")\n",
    "   planet_data = pd.read_csv(\"Chennai_PP_data.csv\")\n",
    "    \n",
    "   ##Training\n",
    "   reg = train(temperatures,planet_data,tr_start,tr_end,indep_var_idx,dep_var_idx,feature_scaling,regressor,batch_size,epochs)\n",
    "\n",
    "   ##Testing\n",
    "   dates_string = getDegrees_Y.getDateString(test_start,test_end)\n",
    "   ret1 = getDegrees_Y.getDegrees_Y(dates_string,temperatures,planet_data,dep_var_idx)\n",
    "   print(\"Test data \", len(ret1[\"X\"]),len(ret1[\"Y\"]))\n",
    "\n",
    "   X_td = ret1[\"X\"][:,indep_var_idx]\n",
    "\n",
    "   if feature_scaling:\n",
    "      X_test = reg[\"X_tr\"].transform(X_td)\n",
    "   else:\n",
    "      X_test = X_td\n",
    "\n",
    "   y_pred = reg[\"reg\"].predict(X_test)\n",
    "\n",
    "   ##Visualize\n",
    "   %matplotlib inline \n",
    "   #Needed to inline graphs\n",
    "   import matplotlib.pyplot as plt\n",
    "\n",
    "   plt.plot(y_pred,label=\"pred\")\n",
    "\n",
    "   plt.plot(ret1[\"Y\"][:,-1],label=\"actual\")\n",
    "   plt.legend()\n",
    "   \n",
    "   print(\"MSE : \", regressor.evaluate(X_test,ret1[\"Y\"][:,-1].reshape(-1,1)))\n",
    "    \n",
    "   return plt\n",
    "\n",
    "if __name__ == \"__main__\":\n",
    "\n",
    "   indep_var_idx = [3,4,5,9,13]\n",
    "   dep_var_idx = 6\n",
    "   feature_scaling = False\n",
    "\n",
    "   tr_start = \"2010-06-01\"\n",
    "   tr_end = \"2014-12-1\"\n",
    "\n",
    "   test_start = \"2015-01-01\"\n",
    "   test_end = \"2017-12-1\"\n",
    "\n",
    "\n",
    "   regressor = Sequential()\n",
    "   ## 2 hidden layers with 5 nodes each\n",
    "   regressor.add(Dense(units=5,kernel_initializer='uniform',activation='relu',input_shape=(len(indep_var_idx),)))\n",
    "   regressor.add(Dense(units=5,kernel_initializer='uniform',activation='relu'))\n",
    "   regressor.add(Dense(units=5,kernel_initializer='uniform',activation='relu'))\n",
    "\n",
    "   ## Output layer \n",
    "   regressor.add(Dense(units=1,kernel_initializer='uniform',activation=None))\n",
    "\n",
    "   print(regressor.summary())\n",
    "\n",
    "   regressor.compile(optimizer='adam',loss='mean_squared_error')\n",
    "\n",
    "   plt = train_test(indep_var_idx,dep_var_idx,feature_scaling,tr_start,tr_end,test_start,test_end,regressor,10,50)\n",
    "   plt.show()"
   ]
  },
  {
   "cell_type": "code",
   "execution_count": null,
   "metadata": {},
   "outputs": [],
   "source": []
  }
 ],
 "metadata": {
  "kernelspec": {
   "display_name": "Python 3",
   "language": "python",
   "name": "python3"
  },
  "language_info": {
   "codemirror_mode": {
    "name": "ipython",
    "version": 3
   },
   "file_extension": ".py",
   "mimetype": "text/x-python",
   "name": "python",
   "nbconvert_exporter": "python",
   "pygments_lexer": "ipython3",
   "version": "3.4.3"
  }
 },
 "nbformat": 4,
 "nbformat_minor": 2
}
