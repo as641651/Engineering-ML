{
 "cells": [
  {
   "cell_type": "markdown",
   "metadata": {},
   "source": [
    "## CNN"
   ]
  },
  {
   "cell_type": "code",
   "execution_count": 1,
   "metadata": {},
   "outputs": [
    {
     "name": "stderr",
     "output_type": "stream",
     "text": [
      "/usr/lib/python3.4/importlib/_bootstrap.py:321: FutureWarning: Conversion of the second argument of issubdtype from `float` to `np.floating` is deprecated. In future, it will be treated as `np.float64 == np.dtype(float).type`.\n",
      "  return f(*args, **kwds)\n",
      "Using TensorFlow backend.\n"
     ]
    }
   ],
   "source": [
    "# Importing the Keras libraries and packages\n",
    "from keras.models import Sequential\n",
    "from keras.layers import Convolution2D\n",
    "from keras.layers import MaxPooling2D\n",
    "from keras.layers import Flatten\n",
    "from keras.layers import Dense"
   ]
  },
  {
   "cell_type": "markdown",
   "metadata": {},
   "source": [
    "### Initialising the CNN"
   ]
  },
  {
   "cell_type": "code",
   "execution_count": 2,
   "metadata": {},
   "outputs": [],
   "source": [
    "# Initialising the CNN\n",
    "classifier = Sequential()"
   ]
  },
  {
   "cell_type": "markdown",
   "metadata": {},
   "source": [
    "###  Step 1 - Convolution\n",
    "\n",
    "Arguments:\n",
    "\n",
    "    filters: Integer, the dimensionality of the output space\n",
    "        (i.e. the number of output filters in the convolution).\n",
    "        \n",
    "    kernel_size: An integer or tuple/list of 2 integers, specifying the\n",
    "        width and height of the 2D convolution window.\n",
    "        Can be a single integer to specify the same value for\n",
    "        all spatial dimensions.\n",
    "        \n",
    "    strides: An integer or tuple/list of 2 integers,\n",
    "        specifying the strides of the convolution along the width and height.\n",
    "        Can be a single integer to specify the same value for\n",
    "        all spatial dimensions.\n",
    "        Specifying any stride value != 1 is incompatible with specifying\n",
    "        any `dilation_rate` value != 1.\n",
    "        \n",
    "    padding: one of `\"valid\"` or `\"same\"` (case-insensitive).\n",
    "    \n",
    "    data_format: A string,\n",
    "        one of `channels_last` (default) or `channels_first`.\n",
    "        The ordering of the dimensions in the inputs.\n",
    "        `channels_last` corresponds to inputs with shape\n",
    "        `(batch, height, width, channels)` while `channels_first`\n",
    "        corresponds to inputs with shape\n",
    "        `(batch, channels, height, width)`.\n",
    "        It defaults to the `image_data_format` value found in your\n",
    "        Keras config file at `~/.keras/keras.json`.\n",
    "        If you never set it, then it will be \"channels_last\".\n",
    "        \n",
    "    dilation_rate: an integer or tuple/list of 2 integers, specifying\n",
    "        the dilation rate to use for dilated convolution.\n",
    "        Can be a single integer to specify the same value for\n",
    "        all spatial dimensions.\n",
    "        Currently, specifying any `dilation_rate` value != 1 is\n",
    "        incompatible with specifying any stride value != 1.\n",
    "        \n",
    "    activation: Activation function to use\n",
    "        (see [activations](../activations.md)).\n",
    "        If you don't specify anything, no activation is applied\n",
    "        (ie. \"linear\" activation: `a(x) = x`).\n",
    "        \n",
    "    use_bias: Boolean, whether the layer uses a bias vector.\n",
    "    \n",
    "    kernel_initializer: Initializer for the `kernel` weights matrix\n",
    "        (see [initializers](../initializers.md)).\n",
    "        \n",
    "    bias_initializer: Initializer for the bias vector\n",
    "        (see [initializers](../initializers.md)).\n",
    "        \n",
    "    kernel_regularizer: Regularizer function applied to\n",
    "        the `kernel` weights matrix\n",
    "        (see [regularizer](../regularizers.md)).\n",
    "        \n",
    "    bias_regularizer: Regularizer function applied to the bias vector\n",
    "        (see [regularizer](../regularizers.md)).\n",
    "        \n",
    "    activity_regularizer: Regularizer function applied to\n",
    "        the output of the layer (its \"activation\").\n",
    "        (see [regularizer](../regularizers.md)).\n",
    "        \n",
    "    kernel_constraint: Constraint function applied to the kernel matrix\n",
    "        (see [constraints](../constraints.md)).\n",
    "        \n",
    "    bias_constraint: Constraint function applied to the bias vector\n",
    "        (see [constraints](../constraints.md)).\n",
    "\n",
    "#### Input shape\n",
    "    4D tensor with shape:\n",
    "    `(samples, channels, rows, cols)` if data_format='channels_first'\n",
    "    or 4D tensor with shape:\n",
    "    `(samples, rows, cols, channels)` if data_format='channels_last'.\n",
    "\n",
    "#### Output shape\n",
    "    4D tensor with shape:\n",
    "    `(samples, filters, new_rows, new_cols)` if data_format='channels_first'\n",
    "    or 4D tensor with shape:\n",
    "    `(samples, new_rows, new_cols, filters)` if data_format='channels_last'.\n",
    "    `rows` and `cols` values might have changed due to padding"
   ]
  },
  {
   "cell_type": "code",
   "execution_count": 3,
   "metadata": {},
   "outputs": [],
   "source": [
    "# Step 1 - Convolution\n",
    "classifier.add(Convolution2D(32, (3, 3), input_shape = (64, 64, 3), activation = 'relu'))"
   ]
  },
  {
   "cell_type": "markdown",
   "metadata": {},
   "source": [
    "### Step 2 - Pooling\n",
    "\n",
    "Init signature: **MaxPooling2D**(pool_size=(2, 2), strides=None, padding='valid', data_format=None)\n",
    "\n",
    "\n",
    "Arguments:\n",
    "\n",
    "    pool_size: integer or tuple of 2 integers,\n",
    "        factors by which to downscale (vertical, horizontal).\n",
    "        (2, 2) will halve the input in both spatial dimension.\n",
    "        If only one integer is specified, the same window length\n",
    "        will be used for both dimensions.\n",
    "        \n",
    "    strides: Integer, tuple of 2 integers, or None.\n",
    "        Strides values.\n",
    "        If None, it will default to `pool_size`.\n",
    "        \n",
    "    padding: One of `\"valid\"` or `\"same\"` (case-insensitive).\n",
    "    \n",
    "    data_format: A string,\n",
    "        one of `channels_last` (default) or `channels_first`.\n",
    "        The ordering of the dimensions in the inputs.\n",
    "        `channels_last` corresponds to inputs with shape\n",
    "        `(batch, height, width, channels)` while `channels_first`\n",
    "        corresponds to inputs with shape\n",
    "        `(batch, channels, height, width)`.\n",
    "        It defaults to the `image_data_format` value found in your\n",
    "        Keras config file at `~/.keras/keras.json`.\n",
    "        If you never set it, then it will be \"channels_last\"."
   ]
  },
  {
   "cell_type": "code",
   "execution_count": 4,
   "metadata": {},
   "outputs": [],
   "source": [
    "# Step 2 - Pooling\n",
    "classifier.add(MaxPooling2D(pool_size = (2, 2)))"
   ]
  },
  {
   "cell_type": "markdown",
   "metadata": {},
   "source": [
    "### Adding a second convolutional layer"
   ]
  },
  {
   "cell_type": "code",
   "execution_count": 5,
   "metadata": {},
   "outputs": [],
   "source": [
    "# Adding a second convolutional layer\n",
    "classifier.add(Convolution2D(32, (3, 3), activation = 'relu'))\n",
    "classifier.add(MaxPooling2D(pool_size = (2, 2)))"
   ]
  },
  {
   "cell_type": "markdown",
   "metadata": {},
   "source": [
    "### Step 3 - Flattening"
   ]
  },
  {
   "cell_type": "code",
   "execution_count": 6,
   "metadata": {},
   "outputs": [],
   "source": [
    "# Step 3 - Flattening\n",
    "classifier.add(Flatten())"
   ]
  },
  {
   "cell_type": "markdown",
   "metadata": {},
   "source": [
    "### Step 4 - Full connection"
   ]
  },
  {
   "cell_type": "code",
   "execution_count": 7,
   "metadata": {},
   "outputs": [],
   "source": [
    "# Step 4 - Full connection\n",
    "classifier.add(Dense(units = 128, activation = 'relu'))\n",
    "classifier.add(Dense(units = 1, activation = 'sigmoid'))"
   ]
  },
  {
   "cell_type": "markdown",
   "metadata": {},
   "source": [
    "### Compiling the CNN"
   ]
  },
  {
   "cell_type": "code",
   "execution_count": 8,
   "metadata": {},
   "outputs": [],
   "source": [
    "# Compiling the CNN\n",
    "classifier.compile(optimizer = 'adam', loss = 'binary_crossentropy', metrics = ['accuracy'])"
   ]
  },
  {
   "cell_type": "markdown",
   "metadata": {},
   "source": [
    "### Visualizing the network"
   ]
  },
  {
   "cell_type": "code",
   "execution_count": 9,
   "metadata": {},
   "outputs": [
    {
     "data": {
      "image/svg+xml": [
       "<svg height=\"644pt\" viewBox=\"0.00 0.00 388.00 644.00\" width=\"388pt\" xmlns=\"http://www.w3.org/2000/svg\" xmlns:xlink=\"http://www.w3.org/1999/xlink\">\n",
       "<g class=\"graph\" id=\"graph0\" transform=\"scale(1 1) rotate(0) translate(4 640)\">\n",
       "<title>G</title>\n",
       "<polygon fill=\"white\" points=\"-4,4 -4,-640 384,-640 384,4 -4,4\" stroke=\"none\"/>\n",
       "<!-- 140302094247640 -->\n",
       "<g class=\"node\" id=\"node1\"><title>140302094247640</title>\n",
       "<polygon fill=\"none\" points=\"21,-589 21,-635 359,-635 359,-589 21,-589\" stroke=\"black\"/>\n",
       "<text font-family=\"Times,serif\" font-size=\"14.00\" text-anchor=\"middle\" x=\"107\" y=\"-608.3\">conv2d_1_input: InputLayer</text>\n",
       "<polyline fill=\"none\" points=\"193,-589 193,-635 \" stroke=\"black\"/>\n",
       "<text font-family=\"Times,serif\" font-size=\"14.00\" text-anchor=\"middle\" x=\"220.5\" y=\"-619.8\">input:</text>\n",
       "<polyline fill=\"none\" points=\"193,-612 248,-612 \" stroke=\"black\"/>\n",
       "<text font-family=\"Times,serif\" font-size=\"14.00\" text-anchor=\"middle\" x=\"220.5\" y=\"-596.8\">output:</text>\n",
       "<polyline fill=\"none\" points=\"248,-589 248,-635 \" stroke=\"black\"/>\n",
       "<text font-family=\"Times,serif\" font-size=\"14.00\" text-anchor=\"middle\" x=\"303.5\" y=\"-619.8\">(None, 64, 64, 3)</text>\n",
       "<polyline fill=\"none\" points=\"248,-612 359,-612 \" stroke=\"black\"/>\n",
       "<text font-family=\"Times,serif\" font-size=\"14.00\" text-anchor=\"middle\" x=\"303.5\" y=\"-596.8\">(None, 64, 64, 3)</text>\n",
       "</g>\n",
       "<!-- 140302094247584 -->\n",
       "<g class=\"node\" id=\"node2\"><title>140302094247584</title>\n",
       "<polygon fill=\"none\" points=\"42,-505 42,-551 338,-551 338,-505 42,-505\" stroke=\"black\"/>\n",
       "<text font-family=\"Times,serif\" font-size=\"14.00\" text-anchor=\"middle\" x=\"103.5\" y=\"-524.3\">conv2d_1: Conv2D</text>\n",
       "<polyline fill=\"none\" points=\"165,-505 165,-551 \" stroke=\"black\"/>\n",
       "<text font-family=\"Times,serif\" font-size=\"14.00\" text-anchor=\"middle\" x=\"192.5\" y=\"-535.8\">input:</text>\n",
       "<polyline fill=\"none\" points=\"165,-528 220,-528 \" stroke=\"black\"/>\n",
       "<text font-family=\"Times,serif\" font-size=\"14.00\" text-anchor=\"middle\" x=\"192.5\" y=\"-512.8\">output:</text>\n",
       "<polyline fill=\"none\" points=\"220,-505 220,-551 \" stroke=\"black\"/>\n",
       "<text font-family=\"Times,serif\" font-size=\"14.00\" text-anchor=\"middle\" x=\"279\" y=\"-535.8\">(None, 64, 64, 3)</text>\n",
       "<polyline fill=\"none\" points=\"220,-528 338,-528 \" stroke=\"black\"/>\n",
       "<text font-family=\"Times,serif\" font-size=\"14.00\" text-anchor=\"middle\" x=\"279\" y=\"-512.8\">(None, 62, 62, 32)</text>\n",
       "</g>\n",
       "<!-- 140302094247640&#45;&gt;140302094247584 -->\n",
       "<g class=\"edge\" id=\"edge1\"><title>140302094247640-&gt;140302094247584</title>\n",
       "<path d=\"M190,-588.593C190,-580.118 190,-570.297 190,-561.104\" fill=\"none\" stroke=\"black\"/>\n",
       "<polygon fill=\"black\" points=\"193.5,-561.096 190,-551.096 186.5,-561.096 193.5,-561.096\" stroke=\"black\"/>\n",
       "</g>\n",
       "<!-- 140302094246800 -->\n",
       "<g class=\"node\" id=\"node3\"><title>140302094246800</title>\n",
       "<polygon fill=\"none\" points=\"0,-421 0,-467 380,-467 380,-421 0,-421\" stroke=\"black\"/>\n",
       "<text font-family=\"Times,serif\" font-size=\"14.00\" text-anchor=\"middle\" x=\"103.5\" y=\"-440.3\">max_pooling2d_1: MaxPooling2D</text>\n",
       "<polyline fill=\"none\" points=\"207,-421 207,-467 \" stroke=\"black\"/>\n",
       "<text font-family=\"Times,serif\" font-size=\"14.00\" text-anchor=\"middle\" x=\"234.5\" y=\"-451.8\">input:</text>\n",
       "<polyline fill=\"none\" points=\"207,-444 262,-444 \" stroke=\"black\"/>\n",
       "<text font-family=\"Times,serif\" font-size=\"14.00\" text-anchor=\"middle\" x=\"234.5\" y=\"-428.8\">output:</text>\n",
       "<polyline fill=\"none\" points=\"262,-421 262,-467 \" stroke=\"black\"/>\n",
       "<text font-family=\"Times,serif\" font-size=\"14.00\" text-anchor=\"middle\" x=\"321\" y=\"-451.8\">(None, 62, 62, 32)</text>\n",
       "<polyline fill=\"none\" points=\"262,-444 380,-444 \" stroke=\"black\"/>\n",
       "<text font-family=\"Times,serif\" font-size=\"14.00\" text-anchor=\"middle\" x=\"321\" y=\"-428.8\">(None, 31, 31, 32)</text>\n",
       "</g>\n",
       "<!-- 140302094247584&#45;&gt;140302094246800 -->\n",
       "<g class=\"edge\" id=\"edge2\"><title>140302094247584-&gt;140302094246800</title>\n",
       "<path d=\"M190,-504.593C190,-496.118 190,-486.297 190,-477.104\" fill=\"none\" stroke=\"black\"/>\n",
       "<polygon fill=\"black\" points=\"193.5,-477.096 190,-467.096 186.5,-477.096 193.5,-477.096\" stroke=\"black\"/>\n",
       "</g>\n",
       "<!-- 140302093929552 -->\n",
       "<g class=\"node\" id=\"node4\"><title>140302093929552</title>\n",
       "<polygon fill=\"none\" points=\"42,-337 42,-383 338,-383 338,-337 42,-337\" stroke=\"black\"/>\n",
       "<text font-family=\"Times,serif\" font-size=\"14.00\" text-anchor=\"middle\" x=\"103.5\" y=\"-356.3\">conv2d_2: Conv2D</text>\n",
       "<polyline fill=\"none\" points=\"165,-337 165,-383 \" stroke=\"black\"/>\n",
       "<text font-family=\"Times,serif\" font-size=\"14.00\" text-anchor=\"middle\" x=\"192.5\" y=\"-367.8\">input:</text>\n",
       "<polyline fill=\"none\" points=\"165,-360 220,-360 \" stroke=\"black\"/>\n",
       "<text font-family=\"Times,serif\" font-size=\"14.00\" text-anchor=\"middle\" x=\"192.5\" y=\"-344.8\">output:</text>\n",
       "<polyline fill=\"none\" points=\"220,-337 220,-383 \" stroke=\"black\"/>\n",
       "<text font-family=\"Times,serif\" font-size=\"14.00\" text-anchor=\"middle\" x=\"279\" y=\"-367.8\">(None, 31, 31, 32)</text>\n",
       "<polyline fill=\"none\" points=\"220,-360 338,-360 \" stroke=\"black\"/>\n",
       "<text font-family=\"Times,serif\" font-size=\"14.00\" text-anchor=\"middle\" x=\"279\" y=\"-344.8\">(None, 29, 29, 32)</text>\n",
       "</g>\n",
       "<!-- 140302094246800&#45;&gt;140302093929552 -->\n",
       "<g class=\"edge\" id=\"edge3\"><title>140302094246800-&gt;140302093929552</title>\n",
       "<path d=\"M190,-420.593C190,-412.118 190,-402.297 190,-393.104\" fill=\"none\" stroke=\"black\"/>\n",
       "<polygon fill=\"black\" points=\"193.5,-393.096 190,-383.096 186.5,-393.096 193.5,-393.096\" stroke=\"black\"/>\n",
       "</g>\n",
       "<!-- 140302093929608 -->\n",
       "<g class=\"node\" id=\"node5\"><title>140302093929608</title>\n",
       "<polygon fill=\"none\" points=\"0,-253 0,-299 380,-299 380,-253 0,-253\" stroke=\"black\"/>\n",
       "<text font-family=\"Times,serif\" font-size=\"14.00\" text-anchor=\"middle\" x=\"103.5\" y=\"-272.3\">max_pooling2d_2: MaxPooling2D</text>\n",
       "<polyline fill=\"none\" points=\"207,-253 207,-299 \" stroke=\"black\"/>\n",
       "<text font-family=\"Times,serif\" font-size=\"14.00\" text-anchor=\"middle\" x=\"234.5\" y=\"-283.8\">input:</text>\n",
       "<polyline fill=\"none\" points=\"207,-276 262,-276 \" stroke=\"black\"/>\n",
       "<text font-family=\"Times,serif\" font-size=\"14.00\" text-anchor=\"middle\" x=\"234.5\" y=\"-260.8\">output:</text>\n",
       "<polyline fill=\"none\" points=\"262,-253 262,-299 \" stroke=\"black\"/>\n",
       "<text font-family=\"Times,serif\" font-size=\"14.00\" text-anchor=\"middle\" x=\"321\" y=\"-283.8\">(None, 29, 29, 32)</text>\n",
       "<polyline fill=\"none\" points=\"262,-276 380,-276 \" stroke=\"black\"/>\n",
       "<text font-family=\"Times,serif\" font-size=\"14.00\" text-anchor=\"middle\" x=\"321\" y=\"-260.8\">(None, 14, 14, 32)</text>\n",
       "</g>\n",
       "<!-- 140302093929552&#45;&gt;140302093929608 -->\n",
       "<g class=\"edge\" id=\"edge4\"><title>140302093929552-&gt;140302093929608</title>\n",
       "<path d=\"M190,-336.593C190,-328.118 190,-318.297 190,-309.104\" fill=\"none\" stroke=\"black\"/>\n",
       "<polygon fill=\"black\" points=\"193.5,-309.096 190,-299.096 186.5,-309.096 193.5,-309.096\" stroke=\"black\"/>\n",
       "</g>\n",
       "<!-- 140302094247416 -->\n",
       "<g class=\"node\" id=\"node6\"><title>140302094247416</title>\n",
       "<polygon fill=\"none\" points=\"48.5,-169 48.5,-215 331.5,-215 331.5,-169 48.5,-169\" stroke=\"black\"/>\n",
       "<text font-family=\"Times,serif\" font-size=\"14.00\" text-anchor=\"middle\" x=\"103.5\" y=\"-188.3\">flatten_1: Flatten</text>\n",
       "<polyline fill=\"none\" points=\"158.5,-169 158.5,-215 \" stroke=\"black\"/>\n",
       "<text font-family=\"Times,serif\" font-size=\"14.00\" text-anchor=\"middle\" x=\"186\" y=\"-199.8\">input:</text>\n",
       "<polyline fill=\"none\" points=\"158.5,-192 213.5,-192 \" stroke=\"black\"/>\n",
       "<text font-family=\"Times,serif\" font-size=\"14.00\" text-anchor=\"middle\" x=\"186\" y=\"-176.8\">output:</text>\n",
       "<polyline fill=\"none\" points=\"213.5,-169 213.5,-215 \" stroke=\"black\"/>\n",
       "<text font-family=\"Times,serif\" font-size=\"14.00\" text-anchor=\"middle\" x=\"272.5\" y=\"-199.8\">(None, 14, 14, 32)</text>\n",
       "<polyline fill=\"none\" points=\"213.5,-192 331.5,-192 \" stroke=\"black\"/>\n",
       "<text font-family=\"Times,serif\" font-size=\"14.00\" text-anchor=\"middle\" x=\"272.5\" y=\"-176.8\">(None, 6272)</text>\n",
       "</g>\n",
       "<!-- 140302093929608&#45;&gt;140302094247416 -->\n",
       "<g class=\"edge\" id=\"edge5\"><title>140302093929608-&gt;140302094247416</title>\n",
       "<path d=\"M190,-252.593C190,-244.118 190,-234.297 190,-225.104\" fill=\"none\" stroke=\"black\"/>\n",
       "<polygon fill=\"black\" points=\"193.5,-225.096 190,-215.096 186.5,-225.096 193.5,-225.096\" stroke=\"black\"/>\n",
       "</g>\n",
       "<!-- 140302093630208 -->\n",
       "<g class=\"node\" id=\"node7\"><title>140302093630208</title>\n",
       "<polygon fill=\"none\" points=\"67,-85 67,-131 313,-131 313,-85 67,-85\" stroke=\"black\"/>\n",
       "<text font-family=\"Times,serif\" font-size=\"14.00\" text-anchor=\"middle\" x=\"118\" y=\"-104.3\">dense_1: Dense</text>\n",
       "<polyline fill=\"none\" points=\"169,-85 169,-131 \" stroke=\"black\"/>\n",
       "<text font-family=\"Times,serif\" font-size=\"14.00\" text-anchor=\"middle\" x=\"196.5\" y=\"-115.8\">input:</text>\n",
       "<polyline fill=\"none\" points=\"169,-108 224,-108 \" stroke=\"black\"/>\n",
       "<text font-family=\"Times,serif\" font-size=\"14.00\" text-anchor=\"middle\" x=\"196.5\" y=\"-92.8\">output:</text>\n",
       "<polyline fill=\"none\" points=\"224,-85 224,-131 \" stroke=\"black\"/>\n",
       "<text font-family=\"Times,serif\" font-size=\"14.00\" text-anchor=\"middle\" x=\"268.5\" y=\"-115.8\">(None, 6272)</text>\n",
       "<polyline fill=\"none\" points=\"224,-108 313,-108 \" stroke=\"black\"/>\n",
       "<text font-family=\"Times,serif\" font-size=\"14.00\" text-anchor=\"middle\" x=\"268.5\" y=\"-92.8\">(None, 128)</text>\n",
       "</g>\n",
       "<!-- 140302094247416&#45;&gt;140302093630208 -->\n",
       "<g class=\"edge\" id=\"edge6\"><title>140302094247416-&gt;140302093630208</title>\n",
       "<path d=\"M190,-168.593C190,-160.118 190,-150.297 190,-141.104\" fill=\"none\" stroke=\"black\"/>\n",
       "<polygon fill=\"black\" points=\"193.5,-141.096 190,-131.096 186.5,-141.096 193.5,-141.096\" stroke=\"black\"/>\n",
       "</g>\n",
       "<!-- 140302093630432 -->\n",
       "<g class=\"node\" id=\"node8\"><title>140302093630432</title>\n",
       "<polygon fill=\"none\" points=\"70,-1 70,-47 310,-47 310,-1 70,-1\" stroke=\"black\"/>\n",
       "<text font-family=\"Times,serif\" font-size=\"14.00\" text-anchor=\"middle\" x=\"121\" y=\"-20.3\">dense_2: Dense</text>\n",
       "<polyline fill=\"none\" points=\"172,-1 172,-47 \" stroke=\"black\"/>\n",
       "<text font-family=\"Times,serif\" font-size=\"14.00\" text-anchor=\"middle\" x=\"199.5\" y=\"-31.8\">input:</text>\n",
       "<polyline fill=\"none\" points=\"172,-24 227,-24 \" stroke=\"black\"/>\n",
       "<text font-family=\"Times,serif\" font-size=\"14.00\" text-anchor=\"middle\" x=\"199.5\" y=\"-8.8\">output:</text>\n",
       "<polyline fill=\"none\" points=\"227,-1 227,-47 \" stroke=\"black\"/>\n",
       "<text font-family=\"Times,serif\" font-size=\"14.00\" text-anchor=\"middle\" x=\"268.5\" y=\"-31.8\">(None, 128)</text>\n",
       "<polyline fill=\"none\" points=\"227,-24 310,-24 \" stroke=\"black\"/>\n",
       "<text font-family=\"Times,serif\" font-size=\"14.00\" text-anchor=\"middle\" x=\"268.5\" y=\"-8.8\">(None, 1)</text>\n",
       "</g>\n",
       "<!-- 140302093630208&#45;&gt;140302093630432 -->\n",
       "<g class=\"edge\" id=\"edge7\"><title>140302093630208-&gt;140302093630432</title>\n",
       "<path d=\"M190,-84.5931C190,-76.1177 190,-66.2974 190,-57.104\" fill=\"none\" stroke=\"black\"/>\n",
       "<polygon fill=\"black\" points=\"193.5,-57.0958 190,-47.0959 186.5,-57.0959 193.5,-57.0958\" stroke=\"black\"/>\n",
       "</g>\n",
       "</g>\n",
       "</svg>"
      ],
      "text/plain": [
       "<IPython.core.display.SVG object>"
      ]
     },
     "execution_count": 9,
     "metadata": {},
     "output_type": "execute_result"
    }
   ],
   "source": [
    "from IPython.display import SVG\n",
    "from keras.utils.vis_utils import model_to_dot\n",
    "\n",
    "SVG(model_to_dot(classifier,show_shapes=True).create(prog='dot', format='svg'))"
   ]
  },
  {
   "cell_type": "code",
   "execution_count": 10,
   "metadata": {},
   "outputs": [
    {
     "name": "stdout",
     "output_type": "stream",
     "text": [
      "_________________________________________________________________\n",
      "Layer (type)                 Output Shape              Param #   \n",
      "=================================================================\n",
      "conv2d_1 (Conv2D)            (None, 62, 62, 32)        896       \n",
      "_________________________________________________________________\n",
      "max_pooling2d_1 (MaxPooling2 (None, 31, 31, 32)        0         \n",
      "_________________________________________________________________\n",
      "conv2d_2 (Conv2D)            (None, 29, 29, 32)        9248      \n",
      "_________________________________________________________________\n",
      "max_pooling2d_2 (MaxPooling2 (None, 14, 14, 32)        0         \n",
      "_________________________________________________________________\n",
      "flatten_1 (Flatten)          (None, 6272)              0         \n",
      "_________________________________________________________________\n",
      "dense_1 (Dense)              (None, 128)               802944    \n",
      "_________________________________________________________________\n",
      "dense_2 (Dense)              (None, 1)                 129       \n",
      "=================================================================\n",
      "Total params: 813,217\n",
      "Trainable params: 813,217\n",
      "Non-trainable params: 0\n",
      "_________________________________________________________________\n",
      "None\n"
     ]
    }
   ],
   "source": [
    "print(classifier.summary())"
   ]
  },
  {
   "cell_type": "markdown",
   "metadata": {},
   "source": [
    "## Pre-processing the images to fit the CNN\n",
    "\n",
    "Look at keras preprocessing documentation.\n",
    "\n",
    "**ImageDataGenerator** class augments the dataset with (random) sheared,zoomed,flipped images etc.\n",
    "\n",
    "**Preprocess the image by rescaling** the pixel values to lie between 0 and 1. This is done by dividing each pizel by 255"
   ]
  },
  {
   "cell_type": "code",
   "execution_count": 11,
   "metadata": {},
   "outputs": [],
   "source": [
    "from keras.preprocessing.image import ImageDataGenerator"
   ]
  },
  {
   "cell_type": "code",
   "execution_count": 12,
   "metadata": {},
   "outputs": [],
   "source": [
    "## Rescale the image and Augment training data with sheared, zoomed and flipped images. \n",
    "train_datagen = ImageDataGenerator(rescale = 1./255,\n",
    "                                   shear_range = 0.2,\n",
    "                                   zoom_range = 0.2,\n",
    "                                   horizontal_flip = True)\n",
    "\n",
    "## Just rescale the images of test set\n",
    "test_datagen = ImageDataGenerator(rescale = 1./255)"
   ]
  },
  {
   "cell_type": "code",
   "execution_count": 13,
   "metadata": {},
   "outputs": [
    {
     "name": "stdout",
     "output_type": "stream",
     "text": [
      "Found 8000 images belonging to 2 classes.\n",
      "Found 2000 images belonging to 2 classes.\n"
     ]
    }
   ],
   "source": [
    "training_set = train_datagen.flow_from_directory('Convolutional_Neural_Networks/dataset/training_set',\n",
    "                                                 target_size = (64, 64),\n",
    "                                                 batch_size = 32,\n",
    "                                                 class_mode = 'binary')\n",
    "\n",
    "test_set = test_datagen.flow_from_directory('Convolutional_Neural_Networks/dataset/test_set',\n",
    "                                            target_size = (64, 64),\n",
    "                                            batch_size = 32,\n",
    "                                            class_mode = 'binary')"
   ]
  },
  {
   "cell_type": "code",
   "execution_count": 17,
   "metadata": {},
   "outputs": [
    {
     "name": "stdout",
     "output_type": "stream",
     "text": [
      "Epoch 1/25\n",
      "250/250 [==============================] - 17s 68ms/step - loss: 0.6383 - acc: 0.6244 - val_loss: 0.5653 - val_acc: 0.7135\n",
      "Epoch 2/25\n",
      "250/250 [==============================] - 16s 64ms/step - loss: 0.5791 - acc: 0.6951 - val_loss: 0.5469 - val_acc: 0.7190\n",
      "Epoch 3/25\n",
      "250/250 [==============================] - 16s 64ms/step - loss: 0.5452 - acc: 0.7256 - val_loss: 0.5294 - val_acc: 0.7370\n",
      "Epoch 4/25\n",
      "250/250 [==============================] - 16s 64ms/step - loss: 0.5109 - acc: 0.7445 - val_loss: 0.4961 - val_acc: 0.7580\n",
      "Epoch 5/25\n",
      "250/250 [==============================] - 16s 66ms/step - loss: 0.4917 - acc: 0.7603 - val_loss: 0.5263 - val_acc: 0.7525\n",
      "Epoch 6/25\n",
      "250/250 [==============================] - 16s 65ms/step - loss: 0.4803 - acc: 0.7612 - val_loss: 0.4930 - val_acc: 0.7690\n",
      "Epoch 7/25\n",
      "250/250 [==============================] - 16s 65ms/step - loss: 0.4641 - acc: 0.7742 - val_loss: 0.5187 - val_acc: 0.7600\n",
      "Epoch 8/25\n",
      "250/250 [==============================] - 16s 65ms/step - loss: 0.4456 - acc: 0.7931 - val_loss: 0.4854 - val_acc: 0.7715\n",
      "Epoch 9/25\n",
      "250/250 [==============================] - 16s 65ms/step - loss: 0.4319 - acc: 0.8005 - val_loss: 0.4815 - val_acc: 0.7715\n",
      "Epoch 10/25\n",
      "250/250 [==============================] - 16s 64ms/step - loss: 0.4294 - acc: 0.8014 - val_loss: 0.5125 - val_acc: 0.7575\n",
      "Epoch 11/25\n",
      "250/250 [==============================] - 16s 65ms/step - loss: 0.4139 - acc: 0.8057 - val_loss: 0.4560 - val_acc: 0.7940\n",
      "Epoch 12/25\n",
      "250/250 [==============================] - 16s 66ms/step - loss: 0.3960 - acc: 0.8141 - val_loss: 0.4750 - val_acc: 0.7810\n",
      "Epoch 13/25\n",
      "250/250 [==============================] - 16s 65ms/step - loss: 0.3822 - acc: 0.8251 - val_loss: 0.4823 - val_acc: 0.7835\n",
      "Epoch 14/25\n",
      "250/250 [==============================] - 16s 65ms/step - loss: 0.3689 - acc: 0.8364 - val_loss: 0.4539 - val_acc: 0.8020\n",
      "Epoch 15/25\n",
      "250/250 [==============================] - 16s 64ms/step - loss: 0.3583 - acc: 0.8425 - val_loss: 0.5009 - val_acc: 0.7705\n",
      "Epoch 16/25\n",
      "250/250 [==============================] - 16s 66ms/step - loss: 0.3450 - acc: 0.8442 - val_loss: 0.4516 - val_acc: 0.7905\n",
      "Epoch 17/25\n",
      "250/250 [==============================] - 16s 65ms/step - loss: 0.3345 - acc: 0.8514 - val_loss: 0.4524 - val_acc: 0.7965\n",
      "Epoch 18/25\n",
      "250/250 [==============================] - 16s 65ms/step - loss: 0.3179 - acc: 0.8580 - val_loss: 0.4660 - val_acc: 0.7880\n",
      "Epoch 19/25\n",
      "250/250 [==============================] - 16s 64ms/step - loss: 0.3094 - acc: 0.8664 - val_loss: 0.5388 - val_acc: 0.7700\n",
      "Epoch 20/25\n",
      "250/250 [==============================] - 16s 65ms/step - loss: 0.2942 - acc: 0.8717 - val_loss: 0.5573 - val_acc: 0.7815\n",
      "Epoch 21/25\n",
      "250/250 [==============================] - 16s 64ms/step - loss: 0.2764 - acc: 0.8839 - val_loss: 0.4809 - val_acc: 0.7885\n",
      "Epoch 22/25\n",
      "250/250 [==============================] - 16s 66ms/step - loss: 0.2621 - acc: 0.8921 - val_loss: 0.5056 - val_acc: 0.7980\n",
      "Epoch 23/25\n",
      "250/250 [==============================] - 16s 65ms/step - loss: 0.2637 - acc: 0.8878 - val_loss: 0.5053 - val_acc: 0.7960\n",
      "Epoch 24/25\n",
      "250/250 [==============================] - 16s 66ms/step - loss: 0.2308 - acc: 0.9071 - val_loss: 0.5454 - val_acc: 0.7900\n",
      "Epoch 25/25\n",
      "250/250 [==============================] - 16s 65ms/step - loss: 0.2295 - acc: 0.9033 - val_loss: 0.5072 - val_acc: 0.8030\n"
     ]
    },
    {
     "data": {
      "text/plain": [
       "<keras.callbacks.History at 0x7f9a512bab00>"
      ]
     },
     "execution_count": 17,
     "metadata": {},
     "output_type": "execute_result"
    }
   ],
   "source": [
    "classifier.fit_generator(training_set,\n",
    "                         steps_per_epoch = 8000/32,\n",
    "                         epochs = 25,\n",
    "                         validation_data = test_set,\n",
    "                         validation_steps = 2000/32)"
   ]
  },
  {
   "cell_type": "markdown",
   "metadata": {},
   "source": [
    "### Evaluate model"
   ]
  },
  {
   "cell_type": "code",
   "execution_count": 18,
   "metadata": {},
   "outputs": [
    {
     "data": {
      "text/plain": [
       "[0.5071521894931793, 0.803]"
      ]
     },
     "execution_count": 18,
     "metadata": {},
     "output_type": "execute_result"
    }
   ],
   "source": [
    "classifier.evaluate_generator(test_set)"
   ]
  },
  {
   "cell_type": "markdown",
   "metadata": {},
   "source": [
    "### Save the model"
   ]
  },
  {
   "cell_type": "code",
   "execution_count": 19,
   "metadata": {},
   "outputs": [
    {
     "name": "stdout",
     "output_type": "stream",
     "text": [
      "Saved model to disk\n"
     ]
    }
   ],
   "source": [
    "import h5py\n",
    "\n",
    "# serialize model to JSON\n",
    "model_json = classifier.to_json()\n",
    "with open(\"model.json\", \"w\") as json_file:\n",
    "    json_file.write(model_json)\n",
    "# serialize weights to HDF5\n",
    "classifier.save_weights(\"model.h5\")\n",
    "print(\"Saved model to disk\")"
   ]
  }
 ],
 "metadata": {
  "kernelspec": {
   "display_name": "Python 3",
   "language": "python",
   "name": "python3"
  },
  "language_info": {
   "codemirror_mode": {
    "name": "ipython",
    "version": 3
   },
   "file_extension": ".py",
   "mimetype": "text/x-python",
   "name": "python",
   "nbconvert_exporter": "python",
   "pygments_lexer": "ipython3",
   "version": "3.4.3"
  }
 },
 "nbformat": 4,
 "nbformat_minor": 2
}
