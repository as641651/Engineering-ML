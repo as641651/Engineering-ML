{
 "cells": [
  {
   "cell_type": "markdown",
   "metadata": {},
   "source": [
    "## Association Rule Learning\n",
    "\n",
    "Modelling the association between several variables.\n",
    "\n",
    "When the independent variables can be mapped to more than one dependent variables, the relation between these two dependent variables can be exploited.\n",
    "\n",
    "Examples,\n",
    "\n",
    "    1) People who likes movie 1 and movie 2 might also like movie 3\n",
    "    2) People who buy bread might also buy milk. Supermarkets use them to find out where exactly to place a product in their store"
   ]
  },
  {
   "cell_type": "markdown",
   "metadata": {},
   "source": [
    "![](apriori)"
   ]
  }
 ],
 "metadata": {
  "kernelspec": {
   "display_name": "Python 3",
   "language": "python",
   "name": "python3"
  },
  "language_info": {
   "codemirror_mode": {
    "name": "ipython",
    "version": 3
   },
   "file_extension": ".py",
   "mimetype": "text/x-python",
   "name": "python",
   "nbconvert_exporter": "python",
   "pygments_lexer": "ipython3",
   "version": "3.4.3"
  }
 },
 "nbformat": 4,
 "nbformat_minor": 2
}
