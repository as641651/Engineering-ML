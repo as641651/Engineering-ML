{
 "cells": [
  {
   "cell_type": "markdown",
   "metadata": {},
   "source": [
    "## Random Forest Regression"
   ]
  },
  {
   "cell_type": "markdown",
   "metadata": {},
   "source": [
    "It is a version of **Ensemble Learning** (using predictions from **multiple runs of the same algorithm** to determine the final prediction). The resulting predictions are **more accurate** and **stable** than a single-run version of Decision trees."
   ]
  },
  {
   "cell_type": "markdown",
   "metadata": {},
   "source": [
    "### Algorithm :\n",
    "\n",
    "1) Pick **K** random data points from training set\n",
    "\n",
    "2) Build the Decision Tree associated to these **K** data points\n",
    "\n",
    "3) Repeat STEPS 1 & 2 for **N** decision trees\n",
    "\n",
    "4) For every test point, the average prediction from **N** decision trees becomes the final prediction"
   ]
  },
  {
   "cell_type": "code",
   "execution_count": null,
   "metadata": {},
   "outputs": [],
   "source": []
  }
 ],
 "metadata": {
  "kernelspec": {
   "display_name": "Python 3",
   "language": "python",
   "name": "python3"
  },
  "language_info": {
   "codemirror_mode": {
    "name": "ipython",
    "version": 3
   },
   "file_extension": ".py",
   "mimetype": "text/x-python",
   "name": "python",
   "nbconvert_exporter": "python",
   "pygments_lexer": "ipython3",
   "version": "3.4.3"
  }
 },
 "nbformat": 4,
 "nbformat_minor": 2
}
