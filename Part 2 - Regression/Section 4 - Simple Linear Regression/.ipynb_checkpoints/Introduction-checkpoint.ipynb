{
 "cells": [
  {
   "cell_type": "markdown",
   "metadata": {},
   "source": [
    "## Regression intution "
   ]
  },
  {
   "cell_type": "markdown",
   "metadata": {},
   "source": [
    "For a general **Polynomial Regression**, we determines the co-efficients of a polynomial of degree **n**.\n",
    "\n",
    "For a **Linear Regression** model, **n** = 1. This is used when the trend is linear. That is, we determine the line of best fit.\n",
    "\n",
    "**Simple linear regression**, is used for those probelms, where the number of independent variables is 1."
   ]
  },
  {
   "cell_type": "markdown",
   "metadata": {},
   "source": [
    "### Estimating the coefficients of Simple linear regression model \n",
    "Ref: [Wikipedia](https://en.wikipedia.org/wiki/Simple_linear_regression)"
   ]
  },
  {
   "cell_type": "markdown",
   "metadata": {},
   "source": [
    "![Derivation](ssr)"
   ]
  }
 ],
 "metadata": {
  "kernelspec": {
   "display_name": "Python 3",
   "language": "python",
   "name": "python3"
  },
  "language_info": {
   "codemirror_mode": {
    "name": "ipython",
    "version": 3
   },
   "file_extension": ".py",
   "mimetype": "text/x-python",
   "name": "python",
   "nbconvert_exporter": "python",
   "pygments_lexer": "ipython3",
   "version": "3.4.3"
  }
 },
 "nbformat": 4,
 "nbformat_minor": 2
}
