{
 "cells": [
  {
   "cell_type": "markdown",
   "metadata": {},
   "source": [
    "## Evaluation Metrics"
   ]
  },
  {
   "cell_type": "markdown",
   "metadata": {},
   "source": [
    "### R Squared\n",
    "\n",
    "Compares how well the model fits the data compared to the average line"
   ]
  },
  {
   "cell_type": "markdown",
   "metadata": {},
   "source": [
    "${\\bf E}_{LS} = \\sum (  y_{i} - \\check{y}_{i} )^{2}$\n",
    "\n",
    "where $y_{i}$ are predicted results and $\\check{y}_{i}$ are actual results.\n",
    "\n",
    "${\\bf E}_{TOT} = \\sum (  y_{i} - y_{avg} )^{2}$\n",
    "\n",
    "where $y_{avg}$ is the average of actual results"
   ]
  },
  {
   "cell_type": "markdown",
   "metadata": {},
   "source": [
    "${\\bf R}^{2} = 1 - \\frac{{\\bf E}_{LS}}{{\\bf E}_{TOT}} $"
   ]
  },
  {
   "cell_type": "markdown",
   "metadata": {},
   "source": [
    "${\\bf R}^{2} = 1 \\implies \\qquad$ Good predictor "
   ]
  },
  {
   "cell_type": "markdown",
   "metadata": {},
   "source": [
    "When ${\\bf R}^{2}$ is further away from 1, the predictions are worse."
   ]
  },
  {
   "cell_type": "markdown",
   "metadata": {},
   "source": [
    "**Note :** ${\\bf R}_{2}$ can be negative."
   ]
  },
  {
   "cell_type": "markdown",
   "metadata": {},
   "source": [
    "### Adjusted R Squared"
   ]
  },
  {
   "cell_type": "markdown",
   "metadata": {},
   "source": [
    "When multiple independent variables are present, it is not possible to determine with ${\\bf R}_{2}$, if the new variables are helping the model or not."
   ]
  },
  {
   "cell_type": "markdown",
   "metadata": {},
   "source": [
    "Adjusted ${\\bf R}_{2}$ penalizes for adding variables that don't help."
   ]
  },
  {
   "cell_type": "markdown",
   "metadata": {},
   "source": [
    "$Adj {\\bf R}_{2} =  1 - (1-{\\bf R}_{2})\\frac{n-1}{n-p-1}$\n",
    "\n",
    "where $p$ is the number of independent variables and $n$ is the sample size. When $p=1$, ${\\bf R}_{2}$ is realized.\n",
    "\n",
    "So when more variables are added, this metric wont increase unless there is some contribution by factor more than $\\frac{n-1}{n-p-1}$"
   ]
  },
  {
   "cell_type": "markdown",
   "metadata": {},
   "source": [
    "### Revisiting the problem used for Multiple Linear Regression"
   ]
  },
  {
   "cell_type": "code",
   "execution_count": 17,
   "metadata": {},
   "outputs": [
    {
     "name": "stdout",
     "output_type": "stream",
     "text": [
      "Partial Data\n"
     ]
    },
    {
     "data": {
      "text/html": [
       "<div>\n",
       "<style scoped>\n",
       "    .dataframe tbody tr th:only-of-type {\n",
       "        vertical-align: middle;\n",
       "    }\n",
       "\n",
       "    .dataframe tbody tr th {\n",
       "        vertical-align: top;\n",
       "    }\n",
       "\n",
       "    .dataframe thead th {\n",
       "        text-align: right;\n",
       "    }\n",
       "</style>\n",
       "<table border=\"1\" class=\"dataframe\">\n",
       "  <thead>\n",
       "    <tr style=\"text-align: right;\">\n",
       "      <th></th>\n",
       "      <th>R&amp;D Spend</th>\n",
       "      <th>Administration</th>\n",
       "      <th>Marketing Spend</th>\n",
       "      <th>State</th>\n",
       "      <th>Profit</th>\n",
       "    </tr>\n",
       "  </thead>\n",
       "  <tbody>\n",
       "    <tr>\n",
       "      <th>0</th>\n",
       "      <td>165349.20</td>\n",
       "      <td>136897.80</td>\n",
       "      <td>471784.10</td>\n",
       "      <td>New York</td>\n",
       "      <td>192261.83</td>\n",
       "    </tr>\n",
       "    <tr>\n",
       "      <th>1</th>\n",
       "      <td>162597.70</td>\n",
       "      <td>151377.59</td>\n",
       "      <td>443898.53</td>\n",
       "      <td>California</td>\n",
       "      <td>191792.06</td>\n",
       "    </tr>\n",
       "    <tr>\n",
       "      <th>2</th>\n",
       "      <td>153441.51</td>\n",
       "      <td>101145.55</td>\n",
       "      <td>407934.54</td>\n",
       "      <td>Florida</td>\n",
       "      <td>191050.39</td>\n",
       "    </tr>\n",
       "    <tr>\n",
       "      <th>3</th>\n",
       "      <td>144372.41</td>\n",
       "      <td>118671.85</td>\n",
       "      <td>383199.62</td>\n",
       "      <td>New York</td>\n",
       "      <td>182901.99</td>\n",
       "    </tr>\n",
       "    <tr>\n",
       "      <th>4</th>\n",
       "      <td>142107.34</td>\n",
       "      <td>91391.77</td>\n",
       "      <td>366168.42</td>\n",
       "      <td>Florida</td>\n",
       "      <td>166187.94</td>\n",
       "    </tr>\n",
       "  </tbody>\n",
       "</table>\n",
       "</div>"
      ],
      "text/plain": [
       "   R&D Spend  Administration  Marketing Spend       State     Profit\n",
       "0  165349.20       136897.80        471784.10    New York  192261.83\n",
       "1  162597.70       151377.59        443898.53  California  191792.06\n",
       "2  153441.51       101145.55        407934.54     Florida  191050.39\n",
       "3  144372.41       118671.85        383199.62    New York  182901.99\n",
       "4  142107.34        91391.77        366168.42     Florida  166187.94"
      ]
     },
     "execution_count": 17,
     "metadata": {},
     "output_type": "execute_result"
    }
   ],
   "source": [
    "#Supress warnings\n",
    "import warnings\n",
    "warnings.filterwarnings('ignore')\n",
    "\n",
    "# Importing the libraries\n",
    "import numpy as np\n",
    "import pandas as pd\n",
    "\n",
    "np.set_printoptions(precision=3)\n",
    "np.set_printoptions(suppress=True) #Otherwise prints in scientific format\n",
    "\n",
    "\n",
    "# Importing the dataset\n",
    "dataset = pd.read_csv('50_Startups.csv')\n",
    "\n",
    "\n",
    "\n",
    "X = dataset.iloc[:, :-1].values\n",
    "y = dataset.iloc[:, 4].values\n",
    "\n",
    "# Encoding categorical data\n",
    "from sklearn.preprocessing import LabelEncoder, OneHotEncoder\n",
    "labelencoder = LabelEncoder()\n",
    "X[:, 3] = labelencoder.fit_transform(X[:, 3])\n",
    "\n",
    "onehotencoder = OneHotEncoder(categorical_features = [3])\n",
    "X = onehotencoder.fit_transform(X).toarray()\n",
    "\n",
    "\n",
    "# Avoiding dummy variable trap\n",
    "X = X[:,1:]\n",
    "\n",
    "print(\"Partial Data\")\n",
    "dataset[:5]"
   ]
  },
  {
   "cell_type": "markdown",
   "metadata": {},
   "source": [
    "#### All variables included"
   ]
  },
  {
   "cell_type": "code",
   "execution_count": 18,
   "metadata": {},
   "outputs": [
    {
     "name": "stdout",
     "output_type": "stream",
     "text": [
      "Num Variables: 5 \n",
      "R squared : 0.9507524843355148 \n",
      "Adj R squared : 0.945156175737278\n"
     ]
    }
   ],
   "source": [
    "import statsmodels.formula.api as sm\n",
    "\n",
    "X_b = np.append(arr = np.ones((len(X),1)), values = X, axis=1)\n",
    "#create a new regressor object\n",
    "X_opt = X_b[:,[0,1,2,3,4,5]] #0 is intercept\n",
    "regressor_OLS = sm.OLS(endog = y, exog = X_opt).fit()\n",
    "print(\"Num Variables: 5\", \"\\nR squared :\", regressor_OLS.rsquared,\"\\nAdj R squared :\", regressor_OLS.rsquared_adj)"
   ]
  },
  {
   "cell_type": "markdown",
   "metadata": {},
   "source": [
    "#### Eliminating variables by backward elimination\n",
    "\n",
    "Significant Level : 0.05"
   ]
  },
  {
   "cell_type": "code",
   "execution_count": 19,
   "metadata": {},
   "outputs": [
    {
     "name": "stdout",
     "output_type": "stream",
     "text": [
      "Num Variables: 4 \n",
      "R squared : 0.9507522991055133 \n",
      "Adj R squared : 0.94637472569267\n"
     ]
    }
   ],
   "source": [
    "import statsmodels.formula.api as sm\n",
    "\n",
    "X_b = np.append(arr = np.ones((len(X),1)), values = X, axis=1)\n",
    "#create a new regressor object\n",
    "X_opt = X_b[:,[0,1,3,4,5]]\n",
    "regressor_OLS = sm.OLS(endog = y, exog = X_opt).fit()\n",
    "print(\"Num Variables: 4\", \"\\nR squared :\", regressor_OLS.rsquared,\"\\nAdj R squared :\", regressor_OLS.rsquared_adj)"
   ]
  },
  {
   "cell_type": "code",
   "execution_count": 20,
   "metadata": {},
   "outputs": [
    {
     "name": "stdout",
     "output_type": "stream",
     "text": [
      "Num Variables: 3 \n",
      "R squared : 0.9507459940683246 \n",
      "Adj R squared : 0.9475337762901719\n"
     ]
    }
   ],
   "source": [
    "import statsmodels.formula.api as sm\n",
    "\n",
    "X_b = np.append(arr = np.ones((len(X),1)), values = X, axis=1)\n",
    "#create a new regressor object\n",
    "X_opt = X_b[:,[0,3,4,5]]\n",
    "regressor_OLS = sm.OLS(endog = y, exog = X_opt).fit()\n",
    "print(\"Num Variables: 3\", \"\\nR squared :\", regressor_OLS.rsquared,\"\\nAdj R squared :\", regressor_OLS.rsquared_adj)"
   ]
  },
  {
   "cell_type": "code",
   "execution_count": 21,
   "metadata": {},
   "outputs": [
    {
     "name": "stdout",
     "output_type": "stream",
     "text": [
      "Num Variables: 2 \n",
      "R squared : 0.9504503015559763 \n",
      "Adj R squared : 0.9483418037498477\n"
     ]
    }
   ],
   "source": [
    "import statsmodels.formula.api as sm\n",
    "\n",
    "X_b = np.append(arr = np.ones((len(X),1)), values = X, axis=1)\n",
    "#create a new regressor object\n",
    "X_opt = X_b[:,[0,3,5]]\n",
    "regressor_OLS = sm.OLS(endog = y, exog = X_opt).fit()\n",
    "print(\"Num Variables: 2\", \"\\nR squared :\", regressor_OLS.rsquared,\"\\nAdj R squared :\", regressor_OLS.rsquared_adj)"
   ]
  },
  {
   "cell_type": "code",
   "execution_count": 22,
   "metadata": {},
   "outputs": [
    {
     "name": "stdout",
     "output_type": "stream",
     "text": [
      "Num Variables: 1 \n",
      "R squared : 0.9465353160804393 \n",
      "Adj R squared : 0.9454214684987817\n"
     ]
    }
   ],
   "source": [
    "import statsmodels.formula.api as sm\n",
    "\n",
    "X_b = np.append(arr = np.ones((len(X),1)), values = X, axis=1)\n",
    "#create a new regressor object\n",
    "X_opt = X_b[:,[0,3]]\n",
    "regressor_OLS = sm.OLS(endog = y, exog = X_opt).fit()\n",
    "print(\"Num Variables: 1\", \"\\nR squared :\", regressor_OLS.rsquared,\"\\nAdj R squared :\", regressor_OLS.rsquared_adj)"
   ]
  },
  {
   "cell_type": "markdown",
   "metadata": {},
   "source": [
    "**Analysis:** \n",
    "\n",
    "It can be seen that as the variables are eliminated, R squared either decreases or does not change. Hence R squared has highest value when all variables are included. But we can see that Adj R square has highest value with 2 variables. But following backward elimination with significant level of 0.05 would have resulted in 1 variable."
   ]
  },
  {
   "cell_type": "markdown",
   "metadata": {},
   "source": [
    "### Take away:\n",
    "\n",
    "Use **p-value** to find out which variable to eliminate.\n",
    "\n",
    "Use **Adjusted R** squared value to find out if your model is improving."
   ]
  },
  {
   "cell_type": "code",
   "execution_count": null,
   "metadata": {},
   "outputs": [],
   "source": []
  }
 ],
 "metadata": {
  "kernelspec": {
   "display_name": "Python 3",
   "language": "python",
   "name": "python3"
  },
  "language_info": {
   "codemirror_mode": {
    "name": "ipython",
    "version": 3
   },
   "file_extension": ".py",
   "mimetype": "text/x-python",
   "name": "python",
   "nbconvert_exporter": "python",
   "pygments_lexer": "ipython3",
   "version": "3.4.3"
  }
 },
 "nbformat": 4,
 "nbformat_minor": 2
}
