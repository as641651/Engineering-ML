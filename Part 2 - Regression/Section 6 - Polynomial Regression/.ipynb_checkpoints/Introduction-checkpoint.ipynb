{
 "cells": [
  {
   "cell_type": "markdown",
   "metadata": {},
   "source": [
    "## Polynomial Regression\n",
    "\n",
    "For a general **Polynomial Regression**, we determines the co-efficients of a polynomial of degree **n**.\n",
    "\n",
    "$  y = b_{0} + \\sum_{i=0}^{m}b_{i}x_{i} +  \\sum_{i=0}^{m}b_{i}x_{i}^{2} + ... + \\sum_{i=0}^{m}b_{i}x_{i}^{n} + \\epsilon$\n",
    "\n",
    "This is sometimes refered as **Polynomial 'Linear' Regression'** because the equation can be viewed as a linear combination of ${\\bf b}$"
   ]
  },
  {
   "cell_type": "markdown",
   "metadata": {},
   "source": [
    "**Multiple Linear Regression** is a special case, where n = 1"
   ]
  },
  {
   "cell_type": "markdown",
   "metadata": {},
   "source": [
    "**Note** : Co-efficient estimation to be discussed in Optimization course"
   ]
  }
 ],
 "metadata": {
  "kernelspec": {
   "display_name": "Python 3",
   "language": "python",
   "name": "python3"
  },
  "language_info": {
   "codemirror_mode": {
    "name": "ipython",
    "version": 3
   },
   "file_extension": ".py",
   "mimetype": "text/x-python",
   "name": "python",
   "nbconvert_exporter": "python",
   "pygments_lexer": "ipython3",
   "version": "3.4.3"
  }
 },
 "nbformat": 4,
 "nbformat_minor": 2
}
