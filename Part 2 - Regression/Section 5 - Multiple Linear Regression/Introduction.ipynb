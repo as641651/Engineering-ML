{
 "cells": [
  {
   "cell_type": "markdown",
   "metadata": {},
   "source": [
    "\n",
    "## Regression intution\n",
    "\n",
    "For a general **Polynomial Regression**, we determines the co-efficients of a polynomial of degree **n**.\n",
    "\n",
    "For a **Linear Regression model**, n = 1. This is used when the trend is linear. That is, we determine the line of best fit.\n",
    "\n",
    "**Multiple linear regression**, is used for those probelms, where the number of independent variables is not restricted to 1.\n",
    "\n",
    "$  y =  b_{0} + {\\bf b.x} + \\epsilon \\qquad {\\bf b , x} \\in {\\mathbb R}^{m} $  \n",
    "\n",
    "$  y = b_{0} + b_{1}x_{1} + b_{2}x_{2} + ... + b_{m}x_{m} + \\epsilon$\n",
    "\n",
    "When **m** = 1, Simple linear regression model is realized.\n"
   ]
  },
  {
   "cell_type": "markdown",
   "metadata": {},
   "source": [
    "### Assumptions of Linear Regression\n",
    "\n",
    "These assumptions are needed to maintain the **Positive Definiteness** of the matrix of inpendent variables.\n",
    "\n",
    "1) Linearity\n",
    "\n",
    "2) Homoscedasticity : For each value of indpedendent variables, the variance of dependent variable is same\n",
    "\n",
    "3) Multivariate Normality\n",
    "\n",
    "4) Independence of errors\n",
    "\n",
    "5) Lack of multicollinearity : The independent vairabes should be uncorellated\n",
    "\n"
   ]
  },
  {
   "cell_type": "markdown",
   "metadata": {},
   "source": [
    "### Estimation of co-efficients\n",
    "\n",
    "Ref: [Derivation](https://economictheoryblog.com/2015/02/19/ols_estimator/)\n",
    "\n",
    "![derivation](mlr)"
   ]
  },
  {
   "cell_type": "markdown",
   "metadata": {},
   "source": [
    "### Selection of independent variables\n",
    "\n",
    "This is done using the **p-value**.\n",
    "\n",
    "$$ p_{value} =  P(y|\\beta_{i} = 0) \\qquad i \\in \\{0,1,..,m\\}$$ \n",
    "\n",
    "If $\\beta_{i}$ correspoinding to variable $i$ is 0, then that variable has no influence in predicting $y$. Therefore, we choose those variables, whose **p-value** is **significantly small**.\n",
    "\n",
    "TODO: Calculating p-value"
   ]
  },
  {
   "cell_type": "code",
   "execution_count": null,
   "metadata": {},
   "outputs": [],
   "source": []
  }
 ],
 "metadata": {
  "kernelspec": {
   "display_name": "Python 3",
   "language": "python",
   "name": "python3"
  },
  "language_info": {
   "codemirror_mode": {
    "name": "ipython",
    "version": 3
   },
   "file_extension": ".py",
   "mimetype": "text/x-python",
   "name": "python",
   "nbconvert_exporter": "python",
   "pygments_lexer": "ipython3",
   "version": "3.4.3"
  }
 },
 "nbformat": 4,
 "nbformat_minor": 2
}
