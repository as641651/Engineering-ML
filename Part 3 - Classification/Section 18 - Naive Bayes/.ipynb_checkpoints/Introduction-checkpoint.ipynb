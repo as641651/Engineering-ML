{
 "cells": [
  {
   "cell_type": "markdown",
   "metadata": {},
   "source": [
    "## Naive Bayes classifier\n",
    "\n",
    "To use this classifier, the **distribution function for each class should be defined**\n",
    "\n",
    "The prediction of $i^{th}$ out of K classes for a data point $X$ is,\n",
    "\n",
    "$i = max_{i} \\{ P(C_{i} | X)\\} \\qquad i = \\{1,2,...,K\\}$"
   ]
  },
  {
   "cell_type": "markdown",
   "metadata": {},
   "source": [
    "Where $P(C_{i} | X)$ are the **postirior probabilities**\n",
    "\n",
    "$\\qquad P(C_{i} | X) = \\frac{P(C_{i}).P(X|C_{i})}{P(X)} \\qquad$ (Bayes Rule)\n",
    "\n",
    "$\\qquad P(X|C_{i}) :\\qquad$ Probability density/mass function. It is the **Likelihood** of the datapoint (Random Variable)\n",
    "\n",
    "$\\qquad P(C_{i}) :\\qquad$ Frequency of class $i$"
   ]
  },
  {
   "cell_type": "markdown",
   "metadata": {},
   "source": [
    "$\\qquad max_{i} \\{ P(C_{i} | X)\\}  = max_{i}\\{P(C_{i}).P(X|C_{i})\\}$\n",
    "\n",
    "The **marginal** $P(X)$ is a constant and can be factored out.\n",
    "\n",
    "**Remark 1 :** Actual notation for PDF is $P_{C,X}(X=x|C=i)$ where C and X are random variables.\n",
    "\n",
    "**Remark 2 :** Notice, $\\sum_{i}P(C_{i}|X) = 1$"
   ]
  },
  {
   "cell_type": "markdown",
   "metadata": {},
   "source": [
    "### Naive?\n",
    "\n",
    "While modelling the distributing function $P(X|C_{i})$, the variables are assumed to be in **un-corellated (Independence)**\n",
    "\n",
    "That is,\n",
    "\n",
    "If $X = [x_{1},x_{2}]$\n",
    "\n",
    "**Independence** $\\implies P(x_{1}|x_{2}) = p(x_{1})$"
   ]
  },
  {
   "cell_type": "markdown",
   "metadata": {},
   "source": [
    "### Computing the class boundries"
   ]
  },
  {
   "cell_type": "markdown",
   "metadata": {},
   "source": [
    "Solve the equations,\n",
    "\n",
    "$\\qquad P(C_{i}|X) = P(C_{j}|X) \\qquad \\forall i \\ne j$"
   ]
  },
  {
   "cell_type": "code",
   "execution_count": null,
   "metadata": {},
   "outputs": [],
   "source": []
  }
 ],
 "metadata": {
  "kernelspec": {
   "display_name": "Python 3",
   "language": "python",
   "name": "python3"
  },
  "language_info": {
   "codemirror_mode": {
    "name": "ipython",
    "version": 3
   },
   "file_extension": ".py",
   "mimetype": "text/x-python",
   "name": "python",
   "nbconvert_exporter": "python",
   "pygments_lexer": "ipython3",
   "version": "3.4.3"
  }
 },
 "nbformat": 4,
 "nbformat_minor": 2
}
