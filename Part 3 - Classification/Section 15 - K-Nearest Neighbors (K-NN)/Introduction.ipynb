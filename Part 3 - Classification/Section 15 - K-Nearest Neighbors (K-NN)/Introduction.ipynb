{
 "cells": [
  {
   "cell_type": "markdown",
   "metadata": {},
   "source": [
    "## K - Nearest Neighbour \n",
    "\n",
    "For every test point, find the class of training point that is at the least distance (euclidean) from the test point. This is 1 - nearest neighbour algorithm. If the prediction is based on the maximum category count in a set of K neighbours, we call it K-NN algorithm.\n",
    "\n",
    "This model requires **no explicit training**. But for every prediction, the distance from every training point should be computed (unless the data exhibit certain ordering, when we an exploit tree search). Therefore, when the training set is large, this model becomes **compute intensive**.\n",
    "\n",
    "Usually, when the dataset is large, this algorithm is run on a subset of data for approximate results.\n",
    "\n",
    "This is the **simplest algorithm** that can model **non-linear class boundries**."
   ]
  },
  {
   "cell_type": "code",
   "execution_count": null,
   "metadata": {},
   "outputs": [],
   "source": []
  }
 ],
 "metadata": {
  "kernelspec": {
   "display_name": "Python 3",
   "language": "python",
   "name": "python3"
  },
  "language_info": {
   "codemirror_mode": {
    "name": "ipython",
    "version": 3
   },
   "file_extension": ".py",
   "mimetype": "text/x-python",
   "name": "python",
   "nbconvert_exporter": "python",
   "pygments_lexer": "ipython3",
   "version": "3.4.3"
  }
 },
 "nbformat": 4,
 "nbformat_minor": 2
}
