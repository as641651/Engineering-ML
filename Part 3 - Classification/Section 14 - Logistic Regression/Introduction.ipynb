{
 "cells": [
  {
   "cell_type": "markdown",
   "metadata": {},
   "source": [
    "## Logistic Regression\n",
    "\n",
    "Apply the **Logistic function** to the output of your regression model to get probabilities. Set some threshold on the probablitiy for a binary classification."
   ]
  },
  {
   "cell_type": "markdown",
   "metadata": {},
   "source": [
    "$y = f({\\bf x}) \\qquad$ (Regression function)\n",
    "\n",
    "$p = \\frac{e^{y}}{e^{y}+1} = \\frac{1}{1+e^{-y}} = \\frac{1}{1+e^{-f ({\\bf x} ) }} \\qquad 0 \\le p \\le 1 \\qquad$ (Logistic (or) Sigmoid function)\n",
    "\n",
    "$ y = ln(\\frac{p}{1-p}) \\qquad$ (Inverse Logistic (or) Logit function)"
   ]
  },
  {
   "cell_type": "code",
   "execution_count": null,
   "metadata": {},
   "outputs": [],
   "source": []
  }
 ],
 "metadata": {
  "kernelspec": {
   "display_name": "Python 3",
   "language": "python",
   "name": "python3"
  },
  "language_info": {
   "codemirror_mode": {
    "name": "ipython",
    "version": 3
   },
   "file_extension": ".py",
   "mimetype": "text/x-python",
   "name": "python",
   "nbconvert_exporter": "python",
   "pygments_lexer": "ipython3",
   "version": "3.4.3"
  }
 },
 "nbformat": 4,
 "nbformat_minor": 2
}
