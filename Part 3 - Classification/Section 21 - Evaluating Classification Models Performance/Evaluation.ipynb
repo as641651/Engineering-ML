{
 "cells": [
  {
   "cell_type": "markdown",
   "metadata": {},
   "source": [
    "## Evaluation Metrics\n",
    "\n",
    "### Errors"
   ]
  },
  {
   "cell_type": "markdown",
   "metadata": {},
   "source": [
    "1) **False positives** (Type 1 error)\n",
    "\n",
    "2) **False Negatives** (Type 2 error)"
   ]
  },
  {
   "cell_type": "markdown",
   "metadata": {},
   "source": [
    "In most of the cases, **type 2 error** is **more dangerous** than type 1.\n",
    "\n",
    "**Type 1 error** is just like a **warning**."
   ]
  },
  {
   "cell_type": "markdown",
   "metadata": {},
   "source": [
    "### Confusion Matrix\n",
    "\n",
    "![cm](cm)"
   ]
  },
  {
   "cell_type": "markdown",
   "metadata": {},
   "source": [
    "### Metrics\n",
    "\n",
    "**Accuracy rate** = Correct/Total = (TP + TN)/Total\n",
    "\n",
    "**Error rate** = Wrong/Total = (FP + FN)/Total"
   ]
  },
  {
   "cell_type": "markdown",
   "metadata": {},
   "source": [
    "**Accuracy** does **not give comparable results** when the **number of datapoints in classes are unbalanced**\n",
    "\n",
    "![ap](ap)"
   ]
  },
  {
   "cell_type": "markdown",
   "metadata": {},
   "source": [
    "Hence metrics like **Area under Precision-Recall** curve, **Area under False Positive rate - Recall curve (AUC-ROC)** are used\n",
    "\n",
    "![m](metrics)"
   ]
  }
 ],
 "metadata": {
  "kernelspec": {
   "display_name": "Python 3",
   "language": "python",
   "name": "python3"
  },
  "language_info": {
   "codemirror_mode": {
    "name": "ipython",
    "version": 3
   },
   "file_extension": ".py",
   "mimetype": "text/x-python",
   "name": "python",
   "nbconvert_exporter": "python",
   "pygments_lexer": "ipython3",
   "version": "3.4.3"
  }
 },
 "nbformat": 4,
 "nbformat_minor": 2
}
